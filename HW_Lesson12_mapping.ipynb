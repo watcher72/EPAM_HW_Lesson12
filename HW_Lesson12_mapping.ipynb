{
 "cells": [
  {
   "cell_type": "markdown",
   "metadata": {},
   "source": [
    "_Student: Kiseleva Elena_"
   ]
  },
  {
   "cell_type": "code",
   "execution_count": 1,
   "metadata": {},
   "outputs": [
    {
     "name": "stdout",
     "output_type": "stream",
     "text": [
      "done\n"
     ]
    }
   ],
   "source": [
    "# display all outputs, not only last one\n",
    "from IPython.core.interactiveshell import InteractiveShell\n",
    "InteractiveShell.ast_node_interactivity = \"all\"\n",
    "print('done')"
   ]
  },
  {
   "cell_type": "code",
   "execution_count": 2,
   "metadata": {},
   "outputs": [],
   "source": [
    "%load_ext line_profiler\n",
    "%load_ext memory_profiler"
   ]
  },
  {
   "cell_type": "markdown",
   "metadata": {},
   "source": [
    "### 2. К каждому элементу списка применить какуе-либо преобразование (например, для числового списка - возвести в кавдрат, для строкового - привести к верхнему регистру, отфильтровать определенные символы, и т.д.).\n",
    "\n",
    "_Проверим приведение строковых элементов списка к верхнему регистру четырьмя способами: с помощью функции map, с помощью генератора, с помощью List comprehension и через обычный цикл for._\n",
    "Для начала пусть результат работы функции map и генератора возвращаются в виде map-объекта и объекта-генератора. Ра"
   ]
  },
  {
   "cell_type": "code",
   "execution_count": null,
   "metadata": {},
   "outputs": [],
   "source": [
    "# %load ./mapping/mapping_list.py\n",
    "def to_upper_v1(data):\n",
    "    return map(lambda x: x.upper(), data)\n",
    "\n",
    "\n",
    "def to_upper_v2(data):\n",
    "    return (word.upper() for word in data)\n",
    "\n",
    "\n",
    "def to_upper_v3(data):\n",
    "    return [word.upper() for word in data]\n",
    "\n",
    "\n",
    "def to_upper_v4(data):\n",
    "    result = []\n",
    "    for word in data:\n",
    "        result.append(word.upper())\n",
    "    return result\n"
   ]
  },
  {
   "cell_type": "code",
   "execution_count": null,
   "metadata": {},
   "outputs": [],
   "source": [
    "# %load ./mapping/test_mapping_list.py\n",
    "from mapping.mapping_list import to_upper_v1, to_upper_v2, to_upper_v3, to_upper_v4\n",
    "\n",
    "\n",
    "def test_to_upper_v1():\n",
    "    actual = list(to_upper_v1(['abc', 'deFgH', 'ijKL']))\n",
    "    expected = ['ABC', 'DEFGH', 'IJKL']\n",
    "    assert actual == expected\n",
    "\n",
    "\n",
    "def test_to_upper_v2():\n",
    "    actual = list(to_upper_v2(['abc', 'deFgH', 'ijKL']))\n",
    "    expected = ['ABC', 'DEFGH', 'IJKL']\n",
    "    assert actual == expected\n",
    "\n",
    "    \n",
    "def test_to_upper_v3():\n",
    "    actual = to_upper_v3(['abc', 'deFgH', 'ijKL'])\n",
    "    expected = ['ABC', 'DEFGH', 'IJKL']\n",
    "    assert actual == expected\n",
    "\n",
    "\n",
    "def test_to_upper_v4():\n",
    "    actual = to_upper_v4(['abc', 'deFgH', 'ijKL'])\n",
    "    expected = ['ABC', 'DEFGH', 'IJKL']\n",
    "    assert actual == expected\n"
   ]
  },
  {
   "cell_type": "code",
   "execution_count": 5,
   "metadata": {},
   "outputs": [
    {
     "name": "stdout",
     "output_type": "stream",
     "text": [
      "============================= test session starts =============================\n",
      "platform win32 -- Python 3.7.4, pytest-5.4.3, py-1.9.0, pluggy-0.13.1 -- F:\\!EPAM\\HW_Lesson12\\venv\\Scripts\\python.exe\n",
      "cachedir: .pytest_cache\n",
      "rootdir: F:\\!EPAM\\HW_Lesson12\n",
      "collecting ... collected 4 items\n",
      "\n",
      "mapping/test_mapping_list.py::test_to_upper_v1 PASSED                    [ 25%]\n",
      "mapping/test_mapping_list.py::test_to_upper_v2 PASSED                    [ 50%]\n",
      "mapping/test_mapping_list.py::test_to_upper_v3 PASSED                    [ 75%]\n",
      "mapping/test_mapping_list.py::test_to_upper_v4 PASSED                    [100%]\n",
      "\n",
      "============================== 4 passed in 0.04s ==============================\n"
     ]
    }
   ],
   "source": [
    "!python -m pytest -v ./mapping/test_mapping_list.py"
   ]
  },
  {
   "cell_type": "code",
   "execution_count": 6,
   "metadata": {},
   "outputs": [],
   "source": [
    "# Prepare data\n",
    "import random\n",
    "\n",
    "ABC = 'abcdefghijklmnopqrstufwxyzABCDEFGHIJKLMNOPQRSTUFWXYZ'\n",
    "\n",
    "def prepare_data(letters, words):\n",
    "    return [''.join(random.sample(ABC, letters)) for _ in range(words)]\n",
    "\n",
    "data = prepare_data(24, 10000)"
   ]
  },
  {
   "cell_type": "code",
   "execution_count": 7,
   "metadata": {},
   "outputs": [
    {
     "name": "stdout",
     "output_type": "stream",
     "text": [
      "First version (with map-function):\n",
      "999 ns ± 145 ns per loop (mean ± std. dev. of 7 runs, 1000000 loops each)\n",
      "\n",
      "Second version (with generator):\n",
      "1.35 µs ± 184 ns per loop (mean ± std. dev. of 7 runs, 1000000 loops each)\n",
      "\n",
      "Third version (with list comprehansion):\n",
      "3.4 ms ± 392 µs per loop (mean ± std. dev. of 7 runs, 100 loops each)\n",
      "\n",
      "Fourth version (with for-loop):\n",
      "5.14 ms ± 1.18 ms per loop (mean ± std. dev. of 7 runs, 100 loops each)\n"
     ]
    }
   ],
   "source": [
    "print('First version (with map-function):')\n",
    "%timeit to_upper_v1(data)\n",
    "print('\\nSecond version (with generator):')\n",
    "%timeit to_upper_v2(data)\n",
    "print('\\nThird version (with list comprehansion):')\n",
    "%timeit to_upper_v3(data)\n",
    "print('\\nFourth version (with for-loop):')\n",
    "%timeit to_upper_v4(data)"
   ]
  },
  {
   "cell_type": "code",
   "execution_count": 8,
   "metadata": {},
   "outputs": [
    {
     "name": "stdout",
     "output_type": "stream",
     "text": [
      "         30006004 function calls in 19.182 seconds\n",
      "\n",
      "   Ordered by: internal time\n",
      "\n",
      "   ncalls  tottime  percall  cumtime  percall filename:lineno(function)\n",
      "     1000    6.693    0.007   11.499    0.011 mapping_list.py:13(to_upper_v4)\n",
      " 20000000    5.908    0.000    5.908    0.000 {method 'upper' of 'str' objects}\n",
      "     1000    3.690    0.004    6.517    0.007 mapping_list.py:10(<listcomp>)\n",
      " 10000000    1.724    0.000    1.724    0.000 {method 'append' of 'list' objects}\n",
      "        1    1.153    1.153   19.182   19.182 <ipython-input-8-eaf41db57515>:3(benchmark)\n",
      "     1000    0.006    0.000    0.006    0.000 mapping_list.py:1(to_upper_v1)\n",
      "     1000    0.004    0.000    6.521    0.007 mapping_list.py:9(to_upper_v3)\n",
      "     1000    0.003    0.000    0.003    0.000 mapping_list.py:5(to_upper_v2)\n",
      "     1000    0.001    0.000    0.001    0.000 mapping_list.py:6(<genexpr>)\n",
      "        1    0.000    0.000   19.182   19.182 {built-in method builtins.exec}\n",
      "        1    0.000    0.000   19.182   19.182 <string>:1(<module>)\n",
      "        1    0.000    0.000    0.000    0.000 {method 'disable' of '_lsprof.Profiler' objects}\n",
      "\n",
      "\n"
     ]
    }
   ],
   "source": [
    "import cProfile\n",
    "\n",
    "def benchmark(n):\n",
    "    for i in range(n):\n",
    "        to_upper_v1(data)\n",
    "        to_upper_v2(data)\n",
    "        to_upper_v3(data)\n",
    "        to_upper_v4(data)\n",
    "\n",
    "\n",
    "cProfile.run('benchmark(1000)', sort='tottime')"
   ]
  },
  {
   "cell_type": "code",
   "execution_count": 9,
   "metadata": {},
   "outputs": [],
   "source": [
    "%lprun -f benchmark benchmark(1000)"
   ]
  },
  {
   "cell_type": "markdown",
   "metadata": {},
   "source": [
    "Timer unit: 1e-07 s\n",
    "\n",
    "Total time: 19.8376 s\n",
    "File: <ipython-input-9-6760ac1f87d9>\n",
    "Function: benchmark at line 5\n",
    "\n",
    "Line #      Hits         Time  Per Hit   % Time  Line Contents\n",
    "==============================================================\n",
    "     5                                           def benchmark(n):\n",
    "     6      1001      62152.0     62.1      0.0      for i in range(n):\n",
    "     7      1000     113329.0    113.3      0.1          to_upper_v1(data)\n",
    "     8      1000     121381.0    121.4      0.1          to_upper_v2(data)\n",
    "     9      1000   66537563.0  66537.6     33.5          to_upper_v3(data)\n",
    "    10      1000  131542047.0 131542.0     66.3          to_upper_v4(data)"
   ]
  },
  {
   "cell_type": "code",
   "execution_count": null,
   "metadata": {},
   "outputs": [],
   "source": [
    "# %load mapping_list_memory_profiling.py\n",
    "import random\n",
    "from memory_profiler import profile\n",
    "\n",
    "from mapping.mapping_list import to_upper_v1, to_upper_v2, to_upper_v3, to_upper_v4\n",
    "\n",
    "\n",
    "ABC = 'abcdefghijklmnopqrstufwxyzABCDEFGHIJKLMNOPQRSTUFWXYZ'\n",
    "\n",
    "\n",
    "def prepare_data(letters, words):\n",
    "    return [''.join(random.sample(ABC, letters)) for _ in range(words)]\n",
    "\n",
    "\n",
    "@profile\n",
    "def run_all(n):\n",
    "    data = prepare_data(24, 10000)\n",
    "    result1 = [to_upper_v1(data) for _ in range(n)]\n",
    "    result2 = [to_upper_v2(data) for _ in range(n)]\n",
    "    result3 = [to_upper_v3(data) for _ in range(n)]\n",
    "    result4 = [to_upper_v4(data) for _ in range(n)]\n",
    "\n",
    "\n",
    "if __name__ == '__main__':\n",
    "    run_all(10)\n"
   ]
  },
  {
   "cell_type": "code",
   "execution_count": 24,
   "metadata": {},
   "outputs": [
    {
     "name": "stdout",
     "output_type": "stream",
     "text": [
      "Filename: mapping_list_memory_profiling.py\n",
      "\n",
      "Line #    Mem usage    Increment   Line Contents\n",
      "================================================\n",
      "    14     14.2 MiB     14.2 MiB   @profile\n",
      "    15                             def run_all(n):\n",
      "    16     15.0 MiB      0.7 MiB       data = prepare_data(24, 10000)\n",
      "    17     15.0 MiB      0.0 MiB       result1 = [to_upper_v1(data) for _ in range(n)]\n",
      "    18     15.0 MiB      0.0 MiB       result2 = [to_upper_v2(data) for _ in range(n)]\n",
      "    19     20.8 MiB      0.6 MiB       result3 = [to_upper_v3(data) for _ in range(n)]\n",
      "    20     26.7 MiB      0.6 MiB       result4 = [to_upper_v4(data) for _ in range(n)]\n",
      "\n",
      "\n"
     ]
    }
   ],
   "source": [
    "!python mapping_list_memory_profiling.py"
   ]
  },
  {
   "cell_type": "markdown",
   "metadata": {},
   "source": [
    "Если результат работы функций `to_upper_v1` и `to_upper_v2` нужно использовать для дальнейшей обработки в виде итерируемого объекта, то можно возвращать не собственно список, а генератор или map-объект, тогда получаем и значительный выигрыш по быстродействию (ведь фактически из-за \"ленивости\" генератора и map-объекта вычисления именно в момент вызова функции не производятся, они будут производится позже, по мере необходимости), и по экономии памяти. Хуже всего работает чистый цикл `for` (очевидно, из-за того, что в каждой итерации происходит обращение к памяти для добавления в список нового элемента)."
   ]
  },
  {
   "cell_type": "markdown",
   "metadata": {},
   "source": [
    "__Попробуем изменить первые две функции, чтобы они тоже возвращали список.__"
   ]
  },
  {
   "cell_type": "code",
   "execution_count": 25,
   "metadata": {},
   "outputs": [],
   "source": [
    "def to_upper_v1_to_list(data):\n",
    "    return list(map(lambda x: x.upper(), data))\n",
    "\n",
    "\n",
    "def to_upper_v2_to_list(data):\n",
    "    return list(word.upper() for word in data)\n",
    "\n",
    "\n",
    "def to_upper_v3(data):\n",
    "    return [word.upper() for word in data]"
   ]
  },
  {
   "cell_type": "code",
   "execution_count": 26,
   "metadata": {},
   "outputs": [
    {
     "name": "stdout",
     "output_type": "stream",
     "text": [
      "3.64 ms ± 335 µs per loop (mean ± std. dev. of 7 runs, 100 loops each)\n",
      "3.85 ms ± 705 µs per loop (mean ± std. dev. of 7 runs, 100 loops each)\n",
      "2.53 ms ± 505 µs per loop (mean ± std. dev. of 7 runs, 100 loops each)\n"
     ]
    }
   ],
   "source": [
    "%timeit to_upper_v1_to_list(data)\n",
    "%timeit to_upper_v2_to_list(data)\n",
    "%timeit to_upper_v3(data)"
   ]
  },
  {
   "cell_type": "code",
   "execution_count": 18,
   "metadata": {},
   "outputs": [
    {
     "name": "stdout",
     "output_type": "stream",
     "text": [
      "         50005004 function calls in 24.471 seconds\n",
      "\n",
      "   Ordered by: internal time\n",
      "\n",
      "   ncalls  tottime  percall  cumtime  percall filename:lineno(function)\n",
      " 30000000    6.614    0.000    6.614    0.000 {method 'upper' of 'str' objects}\n",
      " 10001000    4.474    0.000    6.692    0.000 <ipython-input-16-e7cff83ef4ef>:6(<genexpr>)\n",
      " 10000000    3.832    0.000    6.132    0.000 <ipython-input-16-e7cff83ef4ef>:2(<lambda>)\n",
      "     1000    3.212    0.003    9.344    0.009 <ipython-input-16-e7cff83ef4ef>:1(to_upper_v1_to_list)\n",
      "     1000    3.206    0.003    5.303    0.005 <ipython-input-16-e7cff83ef4ef>:10(<listcomp>)\n",
      "     1000    1.985    0.002    8.677    0.009 <ipython-input-16-e7cff83ef4ef>:5(to_upper_v2_to_list)\n",
      "        1    1.142    1.142   24.471   24.471 <ipython-input-18-3abed70fe950>:3(benchmark_2)\n",
      "     1000    0.005    0.000    5.308    0.005 <ipython-input-16-e7cff83ef4ef>:9(to_upper_v3)\n",
      "        1    0.000    0.000   24.471   24.471 {built-in method builtins.exec}\n",
      "        1    0.000    0.000   24.471   24.471 <string>:1(<module>)\n",
      "        1    0.000    0.000    0.000    0.000 {method 'disable' of '_lsprof.Profiler' objects}\n",
      "\n",
      "\n"
     ]
    }
   ],
   "source": [
    "data = prepare_data(24, 10000)\n",
    "\n",
    "def benchmark_2(n):\n",
    "    for i in range(n):\n",
    "        to_upper_v1_to_list(data)\n",
    "        to_upper_v2_to_list(data)\n",
    "        to_upper_v3(data)\n",
    "\n",
    "\n",
    "cProfile.run('benchmark_2(1000)', sort='tottime')"
   ]
  },
  {
   "cell_type": "code",
   "execution_count": 27,
   "metadata": {},
   "outputs": [],
   "source": [
    "%lprun -f benchmark_2 benchmark_2(1000)"
   ]
  },
  {
   "cell_type": "markdown",
   "metadata": {},
   "source": [
    "Timer unit: 1e-07 s\n",
    "\n",
    "Total time: 29.2605 s\n",
    "File: <ipython-input-18-3abed70fe950>\n",
    "Function: benchmark_2 at line 3\n",
    "\n",
    "Line #      Hits         Time  Per Hit   % Time  Line Contents\n",
    "==============================================================\n",
    "     3                                           def benchmark_2(n):\n",
    "     4      1001      58247.0     58.2      0.0      for i in range(n):\n",
    "     5      1000  112267295.0 112267.3     38.4          to_upper_v1_to_list(data)\n",
    "     6      1000  114441539.0 114441.5     39.1          to_upper_v2_to_list(data)\n",
    "     7      1000   65837455.0  65837.5     22.5          to_upper_v3(data)"
   ]
  },
  {
   "cell_type": "code",
   "execution_count": null,
   "metadata": {},
   "outputs": [],
   "source": [
    "# %load mapping_list_memory_profiling_2.py\n",
    "import random\n",
    "from memory_profiler import profile\n",
    "\n",
    "from mapping.mapping_list_2 import to_upper_v1_to_list, to_upper_v2_to_list, to_upper_v3, to_upper_v4\n",
    "\n",
    "\n",
    "ABC = 'abcdefghijklmnopqrstufwxyzABCDEFGHIJKLMNOPQRSTUFWXYZ'\n",
    "\n",
    "\n",
    "def prepare_data(letters, words):\n",
    "    return [''.join(random.sample(ABC, letters)) for _ in range(words)]\n",
    "\n",
    "\n",
    "@profile\n",
    "def run_all(n):\n",
    "    data = prepare_data(24, 10000)\n",
    "    result1 = [to_upper_v1_to_list(data) for _ in range(n)]\n",
    "    result2 = [to_upper_v2_to_list(data) for _ in range(n)]\n",
    "    result3 = [to_upper_v3(data) for _ in range(n)]\n",
    "    result4 = [to_upper_v4(data) for _ in range(n)]\n",
    "\n",
    "\n",
    "if __name__ == '__main__':\n",
    "    run_all(10)\n"
   ]
  },
  {
   "cell_type": "code",
   "execution_count": 29,
   "metadata": {},
   "outputs": [
    {
     "name": "stdout",
     "output_type": "stream",
     "text": [
      "Filename: mapping_list_memory_profiling_2.py\n",
      "\n",
      "Line #    Mem usage    Increment   Line Contents\n",
      "================================================\n",
      "    14     14.5 MiB     14.5 MiB   @profile\n",
      "    15                             def run_all(n):\n",
      "    16     15.0 MiB      0.6 MiB       data = prepare_data(24, 10000)\n",
      "    17     20.9 MiB      0.6 MiB       result1 = [to_upper_v1_to_list(data) for _ in range(n)]\n",
      "    18     26.7 MiB      0.6 MiB       result2 = [to_upper_v2_to_list(data) for _ in range(n)]\n",
      "    19     32.7 MiB      0.7 MiB       result3 = [to_upper_v3(data) for _ in range(n)]\n",
      "    20     38.5 MiB      0.6 MiB       result4 = [to_upper_v4(data) for _ in range(n)]\n",
      "\n",
      "\n"
     ]
    }
   ],
   "source": [
    "!python mapping_list_memory_profiling_2.py"
   ]
  },
  {
   "cell_type": "markdown",
   "metadata": {},
   "source": [
    "Таким образом, получаем, что операция преобразования генератора в список \"съедает\" практически весь выигрыш от его \"ленивости\", и он работает даже медленнее, чем list comprehension.\n",
    "\n",
    "В целом, выигрыш от функции map или генератора будет ощутим, если результаты его работы будут передаваться для дальнейшей обработки в виде итератора. При этом если в итоге будут обработаны все элементы списка, то мы получим лишь выигрыш по памяти, поскольку время на их обработку может оказаться даже больше, чем при использовании list comprehension (возможно, за счет дополнительных операций по созданию самого генератора и работы с элементами списка через него)."
   ]
  },
  {
   "cell_type": "code",
   "execution_count": null,
   "metadata": {},
   "outputs": [],
   "source": []
  }
 ],
 "metadata": {
  "kernelspec": {
   "display_name": "Python 3",
   "language": "python",
   "name": "python3"
  },
  "language_info": {
   "codemirror_mode": {
    "name": "ipython",
    "version": 3
   },
   "file_extension": ".py",
   "mimetype": "text/x-python",
   "name": "python",
   "nbconvert_exporter": "python",
   "pygments_lexer": "ipython3",
   "version": "3.7.4"
  }
 },
 "nbformat": 4,
 "nbformat_minor": 2
}
