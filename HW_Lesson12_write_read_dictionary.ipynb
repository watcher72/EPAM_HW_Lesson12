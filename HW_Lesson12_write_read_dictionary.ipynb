{
 "cells": [
  {
   "cell_type": "markdown",
   "metadata": {},
   "source": [
    "_Student: Kiseleva Elena_"
   ]
  },
  {
   "cell_type": "code",
   "execution_count": 1,
   "metadata": {},
   "outputs": [
    {
     "name": "stdout",
     "output_type": "stream",
     "text": [
      "done\n"
     ]
    }
   ],
   "source": [
    "# display all outputs, not only last one\n",
    "from IPython.core.interactiveshell import InteractiveShell\n",
    "InteractiveShell.ast_node_interactivity = \"all\"\n",
    "print('done')"
   ]
  },
  {
   "cell_type": "code",
   "execution_count": 2,
   "metadata": {},
   "outputs": [],
   "source": [
    "%load_ext line_profiler\n",
    "%load_ext memory_profiler"
   ]
  },
  {
   "cell_type": "markdown",
   "metadata": {},
   "source": [
    "### 1. Чтение/запись в словарь. При попытке чтения несуществующего ключа возвращается None.\n"
   ]
  },
  {
   "cell_type": "markdown",
   "metadata": {},
   "source": [
    "__Запись в словарь последовательных данных.__"
   ]
  },
  {
   "cell_type": "code",
   "execution_count": null,
   "metadata": {},
   "outputs": [],
   "source": [
    "# %load ./dictionary/write_to_dict.py \n",
    "def write_to_dict_v1(dictionary, items):\n",
    "    \"\"\"\n",
    "    Write items in dict with for-loop and using __setitem__.\n",
    "    The existing values will be overwritten.\n",
    "    \"\"\"\n",
    "    for key, value in items:\n",
    "        dictionary[key] = value\n",
    "    return dictionary\n",
    "\n",
    "\n",
    "def write_to_dict_v2(dictionary, items):\n",
    "    \"\"\"\n",
    "    Write items in dictionary with method setdefault.\n",
    "    The existing items will not be overwritten.\n",
    "    \"\"\"\n",
    "    for key, value in items:\n",
    "        dictionary.setdefault(key, value)\n",
    "    return dictionary\n",
    "\n",
    "\n",
    "def write_to_dict_v3(dictionary, items):\n",
    "    \"\"\"\n",
    "    Write items in dictionary with checking if the item just in the dictionary.\n",
    "    The existing items will not be overwritten.\n",
    "    \"\"\"\n",
    "    for key, value in items:\n",
    "        if key not in dictionary:\n",
    "            dictionary[key] = value\n",
    "    return dictionary\n",
    "\n",
    "\n",
    "def write_to_dict_v4(dictionary, items):\n",
    "    \"\"\"\n",
    "    Write items in dictionary with dictionary comprehension.\n",
    "    The existing items will be overwritten.\n",
    "    \"\"\"\n",
    "    dictionary.update(items)\n",
    "    return dictionary\n"
   ]
  },
  {
   "cell_type": "code",
   "execution_count": null,
   "metadata": {},
   "outputs": [],
   "source": [
    "# %load ./dictionary/test_write_to_dict.py\n",
    "import pytest\n",
    "\n",
    "from write_to_dict import write_to_dict_v1, write_to_dict_v2, write_to_dict_v3, write_to_dict_v4\n",
    "\n",
    "\n",
    "items = list(zip([1, 2, 3, 4, 2], ['abc', 'def', 'ghj', 'ikl', 'mno']))\n",
    "\n",
    "\n",
    "def test_write_to_dict_v1():\n",
    "    actual = write_to_dict_v1({}, items)\n",
    "    expected = {1: 'abc', 2: 'mno', 3: 'ghj', 4: 'ikl'}\n",
    "    assert actual == expected\n",
    "\n",
    "\n",
    "def test_write_to_dict_v2():\n",
    "    actual = write_to_dict_v2({}, items)\n",
    "    expected = {1: 'abc', 2: 'def', 3: 'ghj', 4: 'ikl'}\n",
    "    assert actual == expected\n",
    "\n",
    "\n",
    "def test_write_to_dict_v3():\n",
    "    d = {}\n",
    "    actual = write_to_dict_v3({}, items)\n",
    "    expected = {1: 'abc', 2: 'def', 3: 'ghj', 4: 'ikl'}\n",
    "    assert actual == expected\n",
    "\n",
    "\n",
    "def test_write_to_dict_v4():\n",
    "    actual = write_to_dict_v4({}, items)\n",
    "    expected = {1: 'abc', 2: 'mno', 3: 'ghj', 4: 'ikl'}\n",
    "    assert actual == expected\n"
   ]
  },
  {
   "cell_type": "code",
   "execution_count": 7,
   "metadata": {},
   "outputs": [
    {
     "name": "stdout",
     "output_type": "stream",
     "text": [
      "============================= test session starts =============================\n",
      "platform win32 -- Python 3.7.4, pytest-5.4.3, py-1.9.0, pluggy-0.13.1 -- F:\\!EPAM\\HW_Lesson12\\venv\\Scripts\\python.exe\n",
      "cachedir: .pytest_cache\n",
      "rootdir: F:\\!EPAM\\HW_Lesson12\n",
      "collecting ... collected 4 items\n",
      "\n",
      "dictionary/test_write_to_dict.py::test_write_to_dict_v1 PASSED           [ 25%]\n",
      "dictionary/test_write_to_dict.py::test_write_to_dict_v2 PASSED           [ 50%]\n",
      "dictionary/test_write_to_dict.py::test_write_to_dict_v3 PASSED           [ 75%]\n",
      "dictionary/test_write_to_dict.py::test_write_to_dict_v4 PASSED           [100%]\n",
      "\n",
      "============================== 4 passed in 0.08s ==============================\n"
     ]
    }
   ],
   "source": [
    "!python -m pytest -v ./dictionary/test_write_to_dict.py"
   ]
  },
  {
   "cell_type": "code",
   "execution_count": 8,
   "metadata": {},
   "outputs": [],
   "source": [
    "#prepare data\n",
    "import random\n",
    "\n",
    "RANGE = 10000\n",
    "ABC = 'abcdefghijklmnopqrstufwxyzABCDEFGHIJKLMNOPQRSTUFWXYZ'\n",
    "\n",
    "inline_keys = [x for x in range(RANGE)]\n",
    "inline_values = [''.join(random.sample(ABC, 8)) for _ in range(RANGE)]\n",
    "random_keys = [random.randint(0, RANGE) for _ in range(RANGE)]\n",
    "random_values = [''.join(random.sample(ABC, random.randint(8, 24))) for _ in range(RANGE)]\n",
    "\n",
    "inline_items = list(zip(inline_keys, inline_values))\n",
    "random_items = list(zip(random_keys, random_values))"
   ]
  },
  {
   "cell_type": "code",
   "execution_count": 9,
   "metadata": {},
   "outputs": [
    {
     "name": "stdout",
     "output_type": "stream",
     "text": [
      "1.56 ms ± 109 µs per loop (mean ± std. dev. of 7 runs, 100 loops each)\n"
     ]
    }
   ],
   "source": [
    "%timeit write_to_dict_v1({}, inline_items)"
   ]
  },
  {
   "cell_type": "code",
   "execution_count": 10,
   "metadata": {},
   "outputs": [
    {
     "name": "stdout",
     "output_type": "stream",
     "text": [
      "2.6 ms ± 303 µs per loop (mean ± std. dev. of 7 runs, 100 loops each)\n"
     ]
    }
   ],
   "source": [
    "%timeit write_to_dict_v2({}, inline_items)"
   ]
  },
  {
   "cell_type": "code",
   "execution_count": 11,
   "metadata": {},
   "outputs": [
    {
     "name": "stdout",
     "output_type": "stream",
     "text": [
      "2.62 ms ± 716 µs per loop (mean ± std. dev. of 7 runs, 100 loops each)\n"
     ]
    }
   ],
   "source": [
    "%timeit write_to_dict_v3({}, inline_items)"
   ]
  },
  {
   "cell_type": "code",
   "execution_count": 13,
   "metadata": {},
   "outputs": [
    {
     "name": "stdout",
     "output_type": "stream",
     "text": [
      "828 µs ± 31.7 µs per loop (mean ± std. dev. of 7 runs, 1000 loops each)\n"
     ]
    }
   ],
   "source": [
    "%timeit write_to_dict_v4({}, inline_items)"
   ]
  },
  {
   "cell_type": "code",
   "execution_count": 17,
   "metadata": {},
   "outputs": [
    {
     "name": "stdout",
     "output_type": "stream",
     "text": [
      "         10005004 function calls in 11.000 seconds\n",
      "\n",
      "   Ordered by: internal time\n",
      "\n",
      "   ncalls  tottime  percall  cumtime  percall filename:lineno(function)\n",
      "     1000    3.250    0.003    5.146    0.005 <ipython-input-5-857bd4192f4f>:12(write_to_dict_v2)\n",
      "     1000    2.616    0.003    2.616    0.003 <ipython-input-5-857bd4192f4f>:22(write_to_dict_v3)\n",
      " 10000000    1.896    0.000    1.896    0.000 {method 'setdefault' of 'dict' objects}\n",
      "     1000    1.842    0.002    1.842    0.002 <ipython-input-5-857bd4192f4f>:2(write_to_dict_v1)\n",
      "     1000    0.883    0.001    0.883    0.001 {method 'update' of 'dict' objects}\n",
      "        1    0.509    0.509   11.000   11.000 <ipython-input-17-dd441bbdc7c2>:4(benchmark_write_inline)\n",
      "     1000    0.003    0.000    0.886    0.001 <ipython-input-5-857bd4192f4f>:33(write_to_dict_v4)\n",
      "        1    0.000    0.000   11.000   11.000 {built-in method builtins.exec}\n",
      "        1    0.000    0.000   11.000   11.000 <string>:1(<module>)\n",
      "        1    0.000    0.000    0.000    0.000 {method 'disable' of '_lsprof.Profiler' objects}\n",
      "\n",
      "\n"
     ]
    }
   ],
   "source": [
    "import cProfile\n",
    "\n",
    "\n",
    "def benchmark_write_inline(n):\n",
    "    for i in range(n):\n",
    "        write_to_dict_v1({}, inline_items)\n",
    "        write_to_dict_v2({}, inline_items)\n",
    "        write_to_dict_v3({}, inline_items)\n",
    "        write_to_dict_v4({}, inline_items)\n",
    "\n",
    "\n",
    "cProfile.run('benchmark_write_inline(1000)', sort='tottime')"
   ]
  },
  {
   "cell_type": "code",
   "execution_count": 18,
   "metadata": {},
   "outputs": [],
   "source": [
    "%lprun -f benchmark_write_inline benchmark_write_inline(1000)"
   ]
  },
  {
   "cell_type": "markdown",
   "metadata": {},
   "source": [
    "Timer unit: 1e-07 s\n",
    "\n",
    "Total time: 27.0635 s\n",
    "File: <ipython-input-17-dd441bbdc7c2>\n",
    "Function: benchmark_write_inline at line 4\n",
    "\n",
    "Line #      Hits         Time  Per Hit   % Time  Line Contents\n",
    "==============================================================\n",
    "     4                                           def benchmark_write_inline(n):\n",
    "     5      1001      34036.0     34.0      0.0      for i in range(n):\n",
    "     6      1000   70456186.0  70456.2     26.0          write_to_dict_v1({}, inline_items)\n",
    "     7      1000   85452784.0  85452.8     31.6          write_to_dict_v2({}, inline_items)\n",
    "     8      1000  105889091.0 105889.1     39.1          write_to_dict_v3({}, inline_items)\n",
    "     9      1000    8802735.0   8802.7      3.3          write_to_dict_v4({}, inline_items)"
   ]
  },
  {
   "cell_type": "code",
   "execution_count": 26,
   "metadata": {},
   "outputs": [
    {
     "name": "stdout",
     "output_type": "stream",
     "text": [
      "Overwriting write_to_dict_memory_profiling.py\n"
     ]
    }
   ],
   "source": [
    "%%writefile write_to_dict_memory_profiling.py\n",
    "import random\n",
    "from memory_profiler import profile\n",
    "\n",
    "from dictionary.write_to_dict import write_to_dict_v1, write_to_dict_v2, write_to_dict_v3, write_to_dict_v4\n",
    "\n",
    "\n",
    "#prepare data\n",
    "RANGE = 10000\n",
    "ABC = 'abcdefghijklmnopqrstufwxyzABCDEFGHIJKLMNOPQRSTUFWXYZ'\n",
    "\n",
    "inline_keys = [x for x in range(RANGE)]\n",
    "inline_values = [''.join(random.sample(ABC, 8)) for _ in range(RANGE)]\n",
    "# random_keys = [random.randint(0, RANGE) for _ in range(RANGE)]\n",
    "# random_values = [''.join(random.sample(ABC, random.randint(8, 24))) for _ in range(RANGE)]\n",
    "\n",
    "inline_items = list(zip(inline_keys, inline_values))\n",
    "# random_items = list(zip(random_keys, random_values))\n",
    "\n",
    "@profile\n",
    "def run_all(n):\n",
    "    result1 = [write_to_dict_v1({}, inline_items) for _ in range(n)]\n",
    "    result2 = [write_to_dict_v2({}, inline_items) for _ in range(n)]\n",
    "    result3 = [write_to_dict_v3({}, inline_items) for _ in range(n)]\n",
    "    result4 = [write_to_dict_v4({}, inline_items) for _ in range(n)]\n",
    "\n",
    "\n",
    "if __name__ == '__main__':\n",
    "    run_all(100)\n"
   ]
  },
  {
   "cell_type": "code",
   "execution_count": 27,
   "metadata": {},
   "outputs": [
    {
     "name": "stdout",
     "output_type": "stream",
     "text": [
      "Filename: write_to_dict_memory_profiling.py\n",
      "\n",
      "Line #    Mem usage    Increment   Line Contents\n",
      "================================================\n",
      "    19     15.4 MiB     15.4 MiB   @profile\n",
      "    20                             def run_all(n):\n",
      "    21     31.5 MiB      0.3 MiB       result1 = [write_to_dict_v1({}, inline_items) for _ in range(n)]\n",
      "    22     47.1 MiB      0.2 MiB       result2 = [write_to_dict_v2({}, inline_items) for _ in range(n)]\n",
      "    23     62.7 MiB      0.2 MiB       result3 = [write_to_dict_v3({}, inline_items) for _ in range(n)]\n",
      "    24     78.4 MiB      0.2 MiB       result4 = [write_to_dict_v4({}, inline_items) for _ in range(n)]\n",
      "\n",
      "\n"
     ]
    }
   ],
   "source": [
    "!python write_to_dict_memory_profiling.py"
   ]
  },
  {
   "cell_type": "markdown",
   "metadata": {},
   "source": [
    "Использование built-in метода дает самый лучший результат (могу предположить, что это из-за внутренней реальзации самого метода). Вариант с прямой записью, без проверок на вхождение ключа в словарь, работает чуть быстрее остальных двух, так как в них тратится время на дополнительную проверку наличия ключа в словаре. \n",
    "Расход памяти у всех функций примерно одинаковый."
   ]
  },
  {
   "cell_type": "markdown",
   "metadata": {},
   "source": [
    "__Запись в словарь рандомных данных с вероятным дублированием ключей.__"
   ]
  },
  {
   "cell_type": "code",
   "execution_count": 28,
   "metadata": {},
   "outputs": [
    {
     "name": "stdout",
     "output_type": "stream",
     "text": [
      "1.94 ms ± 117 µs per loop (mean ± std. dev. of 7 runs, 100 loops each)\n"
     ]
    }
   ],
   "source": [
    "%timeit write_to_dict_v1({}, random_items)"
   ]
  },
  {
   "cell_type": "code",
   "execution_count": 29,
   "metadata": {},
   "outputs": [
    {
     "name": "stdout",
     "output_type": "stream",
     "text": [
      "2.69 ms ± 148 µs per loop (mean ± std. dev. of 7 runs, 100 loops each)\n"
     ]
    }
   ],
   "source": [
    "%timeit write_to_dict_v2({}, random_items)"
   ]
  },
  {
   "cell_type": "code",
   "execution_count": 30,
   "metadata": {},
   "outputs": [
    {
     "name": "stdout",
     "output_type": "stream",
     "text": [
      "2.12 ms ± 115 µs per loop (mean ± std. dev. of 7 runs, 100 loops each)\n"
     ]
    }
   ],
   "source": [
    "%timeit write_to_dict_v3({}, random_items)"
   ]
  },
  {
   "cell_type": "code",
   "execution_count": 31,
   "metadata": {},
   "outputs": [
    {
     "name": "stdout",
     "output_type": "stream",
     "text": [
      "1.36 ms ± 282 µs per loop (mean ± std. dev. of 7 runs, 1000 loops each)\n"
     ]
    }
   ],
   "source": [
    "%timeit write_to_dict_v4({}, random_items)"
   ]
  },
  {
   "cell_type": "code",
   "execution_count": 33,
   "metadata": {},
   "outputs": [
    {
     "name": "stdout",
     "output_type": "stream",
     "text": [
      "         10005004 function calls in 11.925 seconds\n",
      "\n",
      "   Ordered by: internal time\n",
      "\n",
      "   ncalls  tottime  percall  cumtime  percall filename:lineno(function)\n",
      "     1000    3.147    0.003    5.463    0.005 <ipython-input-5-857bd4192f4f>:12(write_to_dict_v2)\n",
      "     1000    2.520    0.003    2.520    0.003 <ipython-input-5-857bd4192f4f>:22(write_to_dict_v3)\n",
      " 10000000    2.316    0.000    2.316    0.000 {method 'setdefault' of 'dict' objects}\n",
      "     1000    2.239    0.002    2.239    0.002 <ipython-input-5-857bd4192f4f>:2(write_to_dict_v1)\n",
      "     1000    1.331    0.001    1.331    0.001 {method 'update' of 'dict' objects}\n",
      "        1    0.370    0.370   11.925   11.925 <ipython-input-33-5e2f08b778e1>:4(benchmark_write_random)\n",
      "     1000    0.003    0.000    1.334    0.001 <ipython-input-5-857bd4192f4f>:33(write_to_dict_v4)\n",
      "        1    0.000    0.000   11.925   11.925 {built-in method builtins.exec}\n",
      "        1    0.000    0.000   11.925   11.925 <string>:1(<module>)\n",
      "        1    0.000    0.000    0.000    0.000 {method 'disable' of '_lsprof.Profiler' objects}\n",
      "\n",
      "\n"
     ]
    }
   ],
   "source": [
    "import cProfile\n",
    "\n",
    "\n",
    "def benchmark_write_random(n):\n",
    "    for i in range(n):\n",
    "        write_to_dict_v1({}, random_items)\n",
    "        write_to_dict_v2({}, random_items)\n",
    "        write_to_dict_v3({}, random_items)\n",
    "        write_to_dict_v4({}, random_items)\n",
    "\n",
    "\n",
    "cProfile.run('benchmark_write_random(1000)', sort='tottime')"
   ]
  },
  {
   "cell_type": "code",
   "execution_count": 35,
   "metadata": {},
   "outputs": [],
   "source": [
    "%lprun -f benchmark_write_random benchmark_write_random(1000)"
   ]
  },
  {
   "cell_type": "markdown",
   "metadata": {},
   "source": [
    "Timer unit: 1e-07 s\n",
    "\n",
    "Total time: 29.8353 s\n",
    "File: <ipython-input-33-5e2f08b778e1>\n",
    "Function: benchmark_write_random at line 4\n",
    "\n",
    "Line #      Hits         Time  Per Hit   % Time  Line Contents\n",
    "==============================================================\n",
    "     4                                           def benchmark_write_random(n):\n",
    "     5      1001      36298.0     36.3      0.0      for i in range(n):\n",
    "     6      1000   84293529.0  84293.5     28.3          write_to_dict_v1({}, random_items)\n",
    "     7      1000   98567975.0  98568.0     33.0          write_to_dict_v2({}, random_items)\n",
    "     8      1000  101172338.0 101172.3     33.9          write_to_dict_v3({}, random_items)\n",
    "     9      1000   14283040.0  14283.0      4.8          write_to_dict_v4({}, random_items)"
   ]
  },
  {
   "cell_type": "markdown",
   "metadata": {},
   "source": [
    "Самым лучшим вариантом остается dictionary comprehension, хотя он тоже немного теряет по отношению к вариантам с проверками наличия ключа в словаре."
   ]
  },
  {
   "cell_type": "markdown",
   "metadata": {},
   "source": [
    " "
   ]
  },
  {
   "cell_type": "markdown",
   "metadata": {},
   "source": [
    "__Чтение данных из словаря.__"
   ]
  },
  {
   "cell_type": "code",
   "execution_count": null,
   "metadata": {},
   "outputs": [],
   "source": [
    "# %load ./dictionary/read_from_dict.py \n",
    "def read_from_dict_v1(dictionary, key):\n",
    "    \"\"\"\n",
    "    Read items from the dictionary with method get.\n",
    "    Return None if the key is not in dictionary.\n",
    "    \"\"\"\n",
    "    return dictionary.get(key)\n",
    "\n",
    "\n",
    "def read_from_dict_v2(dictionary, key):\n",
    "    \"\"\"\n",
    "    Read items from the dictionary with checking if the key is in dictionary.\n",
    "    Return None if the key is not in dictionary.\n",
    "    \"\"\"\n",
    "    return dictionary[key] if key in dictionary else None\n",
    "\n",
    "\n",
    "def read_from_dict_v3(dictionary, key):\n",
    "    \"\"\"\n",
    "    Read items from the dictionary with interrupt handling.\n",
    "    Return None if the key is not in dictionary.\n",
    "    \"\"\"\n",
    "    try:\n",
    "        value = dictionary[key]\n",
    "    except KeyError:\n",
    "        value = None\n",
    "    return value\n"
   ]
  },
  {
   "cell_type": "code",
   "execution_count": null,
   "metadata": {},
   "outputs": [],
   "source": [
    "# %load ./dictionary/test_read_from_dict.py\n",
    "import pytest\n",
    "\n",
    "from read_from_dict import read_from_dict_v1, read_from_dict_v2, read_from_dict_v3\n",
    "\n",
    "\n",
    "test_data = {1: 'abc', 4: 'def', 6: 'hjik'}\n",
    "\n",
    "\n",
    "def test_in_dict_v1():\n",
    "    assert read_from_dict_v1(test_data, 4) == 'def'\n",
    "    \n",
    "\n",
    "def test_not_in_dict_v1():\n",
    "    assert read_from_dict_v1(test_data, 2) is None\n",
    "\n",
    "\n",
    "def test_in_dict_v2():\n",
    "    assert read_from_dict_v1(test_data, 4) == 'def'\n",
    "    \n",
    "\n",
    "def test_not_in_dict_v2():\n",
    "    assert read_from_dict_v1(test_data, 2) is None\n",
    "\n",
    "\n",
    "def test_in_dict_v3():\n",
    "    assert read_from_dict_v1(test_data, 4) == 'def'\n",
    "    \n",
    "\n",
    "def test_not_in_dict_v3():\n",
    "    assert read_from_dict_v1(test_data, 2) is None\n"
   ]
  },
  {
   "cell_type": "code",
   "execution_count": 41,
   "metadata": {},
   "outputs": [
    {
     "name": "stdout",
     "output_type": "stream",
     "text": [
      "============================= test session starts =============================\n",
      "platform win32 -- Python 3.7.4, pytest-5.4.3, py-1.9.0, pluggy-0.13.1\n",
      "rootdir: F:\\!EPAM\\HW_Lesson12\n",
      "collected 6 items\n",
      "\n",
      "dictionary\\test_read_from_dict.py ......                                 [100%]\n",
      "\n",
      "============================== 6 passed in 0.05s ==============================\n"
     ]
    }
   ],
   "source": [
    "!python -m pytest ./dictionary/test_read_from_dict.py"
   ]
  },
  {
   "cell_type": "code",
   "execution_count": 42,
   "metadata": {},
   "outputs": [],
   "source": [
    "#prepare data\n",
    "import random\n",
    "\n",
    "\n",
    "RANGE = 10000\n",
    "ABC = 'abcdefghijklmnopqrstufwxyzABCDEFGHIJKLMNOPQRSTUFWXYZ'\n",
    "\n",
    "inline_keys = [x for x in range(RANGE)]\n",
    "inline_values = [''.join(random.sample(ABC, 8)) for _ in range(RANGE)]\n",
    "random_keys = [random.randint(0, RANGE) for _ in range(RANGE)]\n",
    "random_values = [''.join(random.sample(ABC, random.randint(8, 24))) for _ in range(RANGE)]\n",
    "\n",
    "data = {k: v for k, v in zip(inline_keys, inline_values)}\n",
    "data_random = {k: v for k, v in zip(random_keys, random_values)}\n"
   ]
  },
  {
   "cell_type": "code",
   "execution_count": 43,
   "metadata": {},
   "outputs": [
    {
     "name": "stdout",
     "output_type": "stream",
     "text": [
      "4.48 ms ± 1.07 ms per loop (mean ± std. dev. of 7 runs, 100 loops each)\n",
      "4.05 ms ± 255 µs per loop (mean ± std. dev. of 7 runs, 100 loops each)\n",
      "3.57 ms ± 142 µs per loop (mean ± std. dev. of 7 runs, 100 loops each)\n"
     ]
    }
   ],
   "source": [
    "# Словарь содержит все ключи в диапазоне от 0 до RANGE\n",
    "def check_read(func):\n",
    "    for i in range(RANGE):\n",
    "        temp = func(data, i)\n",
    "\n",
    "%timeit check_read(read_from_dict_v1)\n",
    "%timeit check_read(read_from_dict_v2)\n",
    "%timeit check_read(read_from_dict_v3)"
   ]
  },
  {
   "cell_type": "code",
   "execution_count": 44,
   "metadata": {},
   "outputs": [
    {
     "name": "stdout",
     "output_type": "stream",
     "text": [
      "4.8 ms ± 1.03 ms per loop (mean ± std. dev. of 7 runs, 100 loops each)\n",
      "4.44 ms ± 970 µs per loop (mean ± std. dev. of 7 runs, 100 loops each)\n",
      "6.71 ms ± 1.72 ms per loop (mean ± std. dev. of 7 runs, 100 loops each)\n"
     ]
    }
   ],
   "source": [
    "# Словарь содержит случайный набор ключей \n",
    "def check_read(func):\n",
    "    for i in range(RANGE):\n",
    "        temp = func(data_random, i)\n",
    "\n",
    "%timeit check_read(read_from_dict_v1)\n",
    "%timeit check_read(read_from_dict_v2)\n",
    "%timeit check_read(read_from_dict_v3)"
   ]
  },
  {
   "cell_type": "code",
   "execution_count": 45,
   "metadata": {},
   "outputs": [
    {
     "name": "stdout",
     "output_type": "stream",
     "text": [
      "         40000004 function calls in 23.547 seconds\n",
      "\n",
      "   Ordered by: internal time\n",
      "\n",
      "   ncalls  tottime  percall  cumtime  percall filename:lineno(function)\n",
      "        1   11.819   11.819   23.547   23.547 <ipython-input-45-17273a126c3a>:5(benchmark_read)\n",
      " 10000000    3.467    0.000    5.317    0.000 <ipython-input-39-ae93e29f97ca>:2(read_from_dict_v1)\n",
      " 10000000    3.384    0.000    3.384    0.000 <ipython-input-39-ae93e29f97ca>:10(read_from_dict_v2)\n",
      " 10000000    3.027    0.000    3.027    0.000 <ipython-input-39-ae93e29f97ca>:18(read_from_dict_v3)\n",
      " 10000000    1.850    0.000    1.850    0.000 {method 'get' of 'dict' objects}\n",
      "        1    0.000    0.000   23.547   23.547 {built-in method builtins.exec}\n",
      "        1    0.000    0.000   23.547   23.547 <string>:1(<module>)\n",
      "        1    0.000    0.000    0.000    0.000 {method 'disable' of '_lsprof.Profiler' objects}\n",
      "\n",
      "\n"
     ]
    }
   ],
   "source": [
    "# Словарь содержит все ключи в диапазоне от 0 до RANGE\n",
    "import cProfile\n",
    "\n",
    "\n",
    "def benchmark_read(n):\n",
    "    for _ in range(n):\n",
    "        for i in range(RANGE):\n",
    "            read_from_dict_v1(data, i)\n",
    "            read_from_dict_v2(data, i)\n",
    "            read_from_dict_v3(data, i)\n",
    "\n",
    "\n",
    "cProfile.run('benchmark_read(1000)', sort='tottime')"
   ]
  },
  {
   "cell_type": "code",
   "execution_count": 46,
   "metadata": {},
   "outputs": [
    {
     "name": "stdout",
     "output_type": "stream",
     "text": [
      "         40000004 function calls in 26.420 seconds\n",
      "\n",
      "   Ordered by: internal time\n",
      "\n",
      "   ncalls  tottime  percall  cumtime  percall filename:lineno(function)\n",
      "        1   12.022   12.022   26.420   26.420 <ipython-input-46-e1f6cc3e0318>:5(benchmark_read_random)\n",
      " 10000000    4.904    0.000    4.904    0.000 <ipython-input-39-ae93e29f97ca>:18(read_from_dict_v3)\n",
      " 10000000    3.634    0.000    6.390    0.000 <ipython-input-39-ae93e29f97ca>:2(read_from_dict_v1)\n",
      " 10000000    3.103    0.000    3.103    0.000 <ipython-input-39-ae93e29f97ca>:10(read_from_dict_v2)\n",
      " 10000000    2.757    0.000    2.757    0.000 {method 'get' of 'dict' objects}\n",
      "        1    0.000    0.000   26.420   26.420 {built-in method builtins.exec}\n",
      "        1    0.000    0.000   26.420   26.420 <string>:1(<module>)\n",
      "        1    0.000    0.000    0.000    0.000 {method 'disable' of '_lsprof.Profiler' objects}\n",
      "\n",
      "\n"
     ]
    }
   ],
   "source": [
    "# Словарь содержит случайный набор ключей \n",
    "import cProfile\n",
    "\n",
    "\n",
    "def benchmark_read_random(n):\n",
    "    for _ in range(n):\n",
    "        for i in range(RANGE):\n",
    "            read_from_dict_v1(data_random, i)\n",
    "            read_from_dict_v2(data_random, i)\n",
    "            read_from_dict_v3(data_random, i)\n",
    "\n",
    "\n",
    "cProfile.run('benchmark_read_random(1000)', sort='tottime')"
   ]
  },
  {
   "cell_type": "code",
   "execution_count": 48,
   "metadata": {},
   "outputs": [],
   "source": [
    "# Словарь содержит все ключи в диапазоне от 0 до RANGE\n",
    "%lprun -f benchmark_read_random benchmark_read_random(100)"
   ]
  },
  {
   "cell_type": "markdown",
   "metadata": {},
   "source": [
    "Timer unit: 1e-07 s\n",
    "\n",
    "Total time: 7.80958 s\n",
    "File: <ipython-input-46-e1f6cc3e0318>\n",
    "Function: benchmark_read_random at line 5\n",
    "\n",
    "Line #      Hits         Time  Per Hit   % Time  Line Contents\n",
    "==============================================================\n",
    "     5                                           def benchmark_read_random(n):\n",
    "     6       101        900.0      8.9      0.0      for _ in range(n):\n",
    "     7   1000100    8457736.0      8.5     10.8          for i in range(RANGE):\n",
    "     8   1000000   20476597.0     20.5     26.2              read_from_dict_v1(data_random, i)\n",
    "     9   1000000   18874951.0     18.9     24.2              read_from_dict_v2(data_random, i)\n",
    "    10   1000000   30285628.0     30.3     38.8              read_from_dict_v3(data_random, i)"
   ]
  },
  {
   "cell_type": "code",
   "execution_count": 51,
   "metadata": {},
   "outputs": [
    {
     "name": "stdout",
     "output_type": "stream",
     "text": [
      "Overwriting read_from_dict_memory_profiling.py\n"
     ]
    }
   ],
   "source": [
    "%%writefile read_from_dict_memory_profiling.py\n",
    "import random\n",
    "from memory_profiler import profile\n",
    "\n",
    "from dictionary.read_from_dict import read_from_dict_v1, read_from_dict_v2, read_from_dict_v3\n",
    "\n",
    "\n",
    "#prepare data\n",
    "RANGE = 10000\n",
    "ABC = 'abcdefghijklmnopqrstufwxyzABCDEFGHIJKLMNOPQRSTUFWXYZ'\n",
    "\n",
    "random_keys = [random.randint(0, RANGE) for _ in range(RANGE)]\n",
    "random_values = [''.join(random.sample(ABC, random.randint(8, 24))) for _ in range(RANGE)]\n",
    "\n",
    "data_random = {k: v for k, v in zip(random_keys, random_values)}\n",
    "\n",
    "\n",
    "@profile\n",
    "def run_all(n):\n",
    "    def loop(func):\n",
    "        for i in range(RANGE):\n",
    "            temp = func(data_random, i)\n",
    "\n",
    "    result1 = [loop(read_from_dict_v1) for _ in range(n)]\n",
    "    result2 = [loop(read_from_dict_v2) for _ in range(n)]\n",
    "    result3 = [loop(read_from_dict_v3) for _ in range(n)]\n",
    "\n",
    "\n",
    "if __name__ == '__main__':\n",
    "    run_all(10)\n"
   ]
  },
  {
   "cell_type": "code",
   "execution_count": 52,
   "metadata": {},
   "outputs": [
    {
     "name": "stdout",
     "output_type": "stream",
     "text": [
      "Filename: read_from_dict_memory_profiling.py\n",
      "\n",
      "Line #    Mem usage    Increment   Line Contents\n",
      "================================================\n",
      "    17     15.3 MiB     15.3 MiB   @profile\n",
      "    18                             def run_all(n):\n",
      "    19     15.4 MiB      0.0 MiB       def loop(func):\n",
      "    20     15.4 MiB      0.0 MiB           for i in range(RANGE):\n",
      "    21     15.4 MiB      0.0 MiB               temp = func(data_random, i)\n",
      "    22                             \n",
      "    23     15.3 MiB      0.0 MiB       result1 = [loop(read_from_dict_v1) for _ in range(n)]\n",
      "    24     15.4 MiB      0.0 MiB       result2 = [loop(read_from_dict_v2) for _ in range(n)]\n",
      "    25     15.4 MiB      0.0 MiB       result3 = [loop(read_from_dict_v3) for _ in range(n)]\n",
      "\n",
      "\n"
     ]
    }
   ],
   "source": [
    "!python read_from_dict_memory_profiling.py"
   ]
  },
  {
   "cell_type": "markdown",
   "metadata": {},
   "source": [
    "Замеряла несколько раз. В целом, достаточно ожидаемо, что на случайном наборе ключей функция, где идет обработка прерывания KeyError теряет производительность, в то время как на словаре с полным набором ключей работает примерно на уровне функции с прямым обращением к ключу. А вот почему метод `get` работает чуть медленнее, чем явная проверка на наличие ключа в словаре через `in` и прямым обращением к ключу - это для меня осталось загадкой. Могу только предположить, что на это может влиять внутренняя реализация самого метода `get`.    "
   ]
  },
  {
   "cell_type": "code",
   "execution_count": null,
   "metadata": {},
   "outputs": [],
   "source": []
  }
 ],
 "metadata": {
  "kernelspec": {
   "display_name": "Python 3",
   "language": "python",
   "name": "python3"
  },
  "language_info": {
   "codemirror_mode": {
    "name": "ipython",
    "version": 3
   },
   "file_extension": ".py",
   "mimetype": "text/x-python",
   "name": "python",
   "nbconvert_exporter": "python",
   "pygments_lexer": "ipython3",
   "version": "3.7.4"
  }
 },
 "nbformat": 4,
 "nbformat_minor": 2
}
