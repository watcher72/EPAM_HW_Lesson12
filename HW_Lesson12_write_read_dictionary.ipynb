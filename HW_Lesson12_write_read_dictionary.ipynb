{
 "cells": [
  {
   "cell_type": "markdown",
   "metadata": {},
   "source": [
    "_Student: Kiseleva Elena_"
   ]
  },
  {
   "cell_type": "code",
   "execution_count": 2,
   "metadata": {},
   "outputs": [
    {
     "name": "stdout",
     "output_type": "stream",
     "text": [
      "done\n"
     ]
    }
   ],
   "source": [
    "# display all outputs, not only last one\n",
    "from IPython.core.interactiveshell import InteractiveShell\n",
    "InteractiveShell.ast_node_interactivity = \"all\"\n",
    "print('done')"
   ]
  },
  {
   "cell_type": "code",
   "execution_count": 3,
   "metadata": {},
   "outputs": [],
   "source": [
    "%load_ext line_profiler\n",
    "%load_ext memory_profiler"
   ]
  },
  {
   "cell_type": "markdown",
   "metadata": {},
   "source": [
    "### 1. Чтение/запись в словарь. При попытке чтения несуществующего ключа возвращается None.\n"
   ]
  },
  {
   "cell_type": "markdown",
   "metadata": {},
   "source": [
    "__Запись в словарь последовательных данных.__"
   ]
  },
  {
   "cell_type": "code",
   "execution_count": null,
   "metadata": {},
   "outputs": [],
   "source": [
    "# %load ./dictionary/write_to_dict.py \n",
    "import random\n",
    "\n",
    "\n",
    "#prepare data\n",
    "RANGE = 100000\n",
    "ABC = 'abcdefghijklmnopqrstufwxyzABCDEFGHIJKLMNOPQRSTUFWXYZ'\n",
    "\n",
    "inline_keys = [x for x in range(RANGE)]\n",
    "inline_values = [''.join(random.sample(ABC, 8)) for _ in range(RANGE)]\n",
    "random_keys = [random.randint(0, RANGE) for _ in range(RANGE)]\n",
    "random_values = [''.join(random.sample(ABC, random.randint(8, 24))) for _ in range(RANGE)]\n",
    "\n",
    "\n",
    "def write_to_dict_v1(keys, values):\n",
    "    \"\"\"\n",
    "    Write items in dict with for-loop.\n",
    "    The existing values will be overwritten.\n",
    "    \"\"\"\n",
    "    result = {}\n",
    "    for key, value in zip(keys, values):\n",
    "        result[key] = value\n",
    "    return result\n",
    "\n",
    "\n",
    "def write_to_dict_v2(keys, values):\n",
    "    \"\"\"\n",
    "    Write items in dictionary with method setdefault. \n",
    "    The existing items will not be overwritten.\n",
    "    \"\"\"\n",
    "    result = {}\n",
    "    for key, value in zip(keys, values):\n",
    "        result.setdefault(key, value)\n",
    "    return result\n",
    "\n",
    "\n",
    "def write_to_dict_v3(keys, values):\n",
    "    \"\"\"\n",
    "    Write items in dictionary with checking if the item just in the dictionary. \n",
    "    The existing items will not be overwritten.\n",
    "    \"\"\"\n",
    "    result = {}\n",
    "    for key, value in zip(keys, values):\n",
    "        if key not in result:\n",
    "            result[key] = value\n",
    "    return result\n",
    "\n",
    "\n",
    "def write_to_dict_v4(keys, values):\n",
    "    \"\"\"\n",
    "    Write items in dictionary with dictionary comprehention. \n",
    "    The existing items will be overwritten.\n",
    "    \"\"\"\n",
    "    return {key: value for key, value in zip(keys, values)}\n"
   ]
  },
  {
   "cell_type": "code",
   "execution_count": null,
   "metadata": {},
   "outputs": [],
   "source": [
    "# %load ./dictionary/test_write_to_dict.py\n",
    "import pytest\n",
    "\n",
    "from write_to_dict import write_to_dict_v1, write_to_dict_v2, write_to_dict_v3, write_to_dict_v4\n",
    "\n",
    "\n",
    "keys = [1, 2, 3, 4, 2]\n",
    "values = ['abc', 'def', 'ghj', 'ikl', 'mno']\n",
    "expected = {1: 'abc', 2: 'def', 3: 'ghj', 4: 'ikl'}\n",
    "\n",
    "def test_write_to_dict_v1():\n",
    "    actual = write_to_dict_v1(keys, values)\n",
    "    expected = {1: 'abc', 2: 'mno', 3: 'ghj', 4: 'ikl'}\n",
    "    assert actual == expected\n",
    "\n",
    "\n",
    "def test_write_to_dict_v2():\n",
    "    actual = write_to_dict_v2(keys, values)\n",
    "    expected = {1: 'abc', 2: 'def', 3: 'ghj', 4: 'ikl'}\n",
    "    assert actual == expected\n",
    "\n",
    "    \n",
    "def test_write_to_dict_v3():\n",
    "    actual = write_to_dict_v3(keys, values)\n",
    "    expected = {1: 'abc', 2: 'def', 3: 'ghj', 4: 'ikl'}\n",
    "    assert actual == expected\n",
    "\n",
    "\n",
    "def test_write_to_dict_v4():\n",
    "    actual = write_to_dict_v4(keys, values)\n",
    "    expected = {1: 'abc', 2: 'mno', 3: 'ghj', 4: 'ikl'}\n",
    "    assert actual == expected\n"
   ]
  },
  {
   "cell_type": "code",
   "execution_count": 6,
   "metadata": {},
   "outputs": [
    {
     "name": "stdout",
     "output_type": "stream",
     "text": [
      "============================= test session starts =============================\n",
      "platform win32 -- Python 3.7.4, pytest-5.4.3, py-1.9.0, pluggy-0.13.1\n",
      "rootdir: F:\\!EPAM\\HW_Lesson12\n",
      "collected 4 items\n",
      "\n",
      "dictionary\\test_write_to_dict.py ....                                    [100%]\n",
      "\n",
      "============================= 4 passed in 10.29s ==============================\n"
     ]
    }
   ],
   "source": [
    "!python -m pytest ./dictionary/test_write_to_dict.py"
   ]
  },
  {
   "cell_type": "code",
   "execution_count": 7,
   "metadata": {},
   "outputs": [
    {
     "name": "stdout",
     "output_type": "stream",
     "text": [
      "30.2 ms ± 3.87 ms per loop (mean ± std. dev. of 7 runs, 10 loops each)\n"
     ]
    }
   ],
   "source": [
    "%timeit write_to_dict_v1(inline_keys, inline_values)"
   ]
  },
  {
   "cell_type": "code",
   "execution_count": 8,
   "metadata": {},
   "outputs": [
    {
     "name": "stdout",
     "output_type": "stream",
     "text": [
      "42 ms ± 4.72 ms per loop (mean ± std. dev. of 7 runs, 10 loops each)\n"
     ]
    }
   ],
   "source": [
    "%timeit write_to_dict_v2(inline_keys, inline_values)"
   ]
  },
  {
   "cell_type": "code",
   "execution_count": 9,
   "metadata": {},
   "outputs": [
    {
     "name": "stdout",
     "output_type": "stream",
     "text": [
      "50.1 ms ± 11.7 ms per loop (mean ± std. dev. of 7 runs, 10 loops each)\n"
     ]
    }
   ],
   "source": [
    "%timeit write_to_dict_v3(inline_keys, inline_values)"
   ]
  },
  {
   "cell_type": "code",
   "execution_count": 10,
   "metadata": {},
   "outputs": [
    {
     "name": "stdout",
     "output_type": "stream",
     "text": [
      "31.8 ms ± 7.55 ms per loop (mean ± std. dev. of 7 runs, 10 loops each)\n"
     ]
    }
   ],
   "source": [
    "%timeit write_to_dict_v4(inline_keys, inline_values)"
   ]
  },
  {
   "cell_type": "code",
   "execution_count": 11,
   "metadata": {},
   "outputs": [
    {
     "name": "stdout",
     "output_type": "stream",
     "text": [
      "         10000504 function calls in 18.607 seconds\n",
      "\n",
      "   Ordered by: internal time\n",
      "\n",
      "   ncalls  tottime  percall  cumtime  percall filename:lineno(function)\n",
      "      100    4.159    0.042    4.159    0.042 <ipython-input-4-fc9ecef60aeb>:37(write_to_dict_v3)\n",
      "      100    4.014    0.040    7.010    0.070 <ipython-input-4-fc9ecef60aeb>:26(write_to_dict_v2)\n",
      "      100    3.341    0.033    3.341    0.033 <ipython-input-4-fc9ecef60aeb>:15(write_to_dict_v1)\n",
      " 10000000    2.996    0.000    2.996    0.000 {method 'setdefault' of 'dict' objects}\n",
      "      100    2.989    0.030    2.989    0.030 <ipython-input-4-fc9ecef60aeb>:54(<dictcomp>)\n",
      "        1    1.106    1.106   18.606   18.606 <ipython-input-11-1b277bfdd52f>:4(benchmark_write_inline)\n",
      "      100    0.001    0.000    2.991    0.030 <ipython-input-4-fc9ecef60aeb>:49(write_to_dict_v4)\n",
      "        1    0.000    0.000   18.607   18.607 {built-in method builtins.exec}\n",
      "        1    0.000    0.000   18.606   18.606 <string>:1(<module>)\n",
      "        1    0.000    0.000    0.000    0.000 {method 'disable' of '_lsprof.Profiler' objects}\n",
      "\n",
      "\n"
     ]
    }
   ],
   "source": [
    "import cProfile\n",
    "\n",
    "\n",
    "def benchmark_write_inline(n):\n",
    "    for i in range(n):\n",
    "        write_to_dict_v1(inline_keys, inline_values)\n",
    "        write_to_dict_v2(inline_keys, inline_values)\n",
    "        write_to_dict_v3(inline_keys, inline_values)\n",
    "        write_to_dict_v4(inline_keys, inline_values)\n",
    "\n",
    "\n",
    "cProfile.run('benchmark_write_inline(100)', sort='tottime')"
   ]
  },
  {
   "cell_type": "code",
   "execution_count": 64,
   "metadata": {},
   "outputs": [],
   "source": [
    "%lprun -f benchmark_write_inline benchmark_write_inline(100)"
   ]
  },
  {
   "cell_type": "markdown",
   "metadata": {},
   "source": [
    "Timer unit: 1e-07 s\n",
    "\n",
    "Total time: 47.3423 s\n",
    "File: <ipython-input-11-1b277bfdd52f>\n",
    "Function: benchmark_write_inline at line 4\n",
    "\n",
    "Line #      Hits         Time  Per Hit   % Time  Line Contents\n",
    "==============================================================\n",
    "     4                                           def benchmark_write_inline(n):\n",
    "     5       101       9596.0     95.0      0.0      for i in range(n):\n",
    "     6       100  112004194.0 1120041.9     23.7          write_to_dict_v1(inline_keys, inline_values)\n",
    "     7       100  133569182.0 1335691.8     28.2          write_to_dict_v2(inline_keys, inline_values)\n",
    "     8       100  160675949.0 1606759.5     33.9          write_to_dict_v3(inline_keys, inline_values)\n",
    "     9       100   67164054.0 671640.5     14.2          write_to_dict_v4(inline_keys, inline_values)"
   ]
  },
  {
   "cell_type": "code",
   "execution_count": 62,
   "metadata": {},
   "outputs": [
    {
     "name": "stdout",
     "output_type": "stream",
     "text": [
      "ERROR: Could not find file <ipython-input-62-9fab162994e8>\n",
      "NOTE: %mprun can only be used on functions defined in physical files, and not in the IPython environment.\n"
     ]
    }
   ],
   "source": [
    "# %load write_to_dict_memory_profiling.py\n",
    "from memory_profiler import profile\n",
    "\n",
    "from dictionary.write_to_dict import write_to_dict_v1, write_to_dict_v2, write_to_dict_v3, write_to_dict_v4\n",
    "from dictionary.write_to_dict import inline_keys, inline_values\n",
    "\n",
    "\n",
    "@profile\n",
    "def run_all():\n",
    "    write_to_dict_v1(inline_keys, inline_values)\n",
    "    write_to_dict_v2(inline_keys, inline_values)\n",
    "    write_to_dict_v3(inline_keys, inline_values)\n",
    "    write_to_dict_v4(inline_keys, inline_values)\n",
    "\n",
    "\n",
    "if __name__ == '__main__':\n",
    "    run_all()\n"
   ]
  },
  {
   "cell_type": "code",
   "execution_count": 63,
   "metadata": {},
   "outputs": [
    {
     "name": "stdout",
     "output_type": "stream",
     "text": [
      "Filename: write_to_dict_memory_profiling.py\n",
      "\n",
      "Line #    Mem usage    Increment   Line Contents\n",
      "================================================\n",
      "     7     27.9 MiB     27.9 MiB   @profile\n",
      "     8                             def run_all():\n",
      "     9     27.5 MiB      0.0 MiB       write_to_dict_v1(inline_keys, inline_values)\n",
      "    10     27.5 MiB      0.0 MiB       write_to_dict_v2(inline_keys, inline_values)\n",
      "    11     27.5 MiB      0.0 MiB       write_to_dict_v3(inline_keys, inline_values)\n",
      "    12     27.5 MiB      0.0 MiB       write_to_dict_v4(inline_keys, inline_values)\n",
      "\n",
      "\n"
     ]
    }
   ],
   "source": [
    "!python write_to_dict_memory_profiling.py"
   ]
  },
  {
   "cell_type": "markdown",
   "metadata": {},
   "source": [
    "Использование dictionary comprehension дает самый лучший результат (могу предположить, что это из-за внутренней реальзации данного средства языка). Вариант с прямой записью, без проверок на вхождение ключа в словарь, работает чуть быстрее остальных двух, так как в них тратится время на дополнительную проверку наличия ключа в словаре. \n",
    "Потерь по памяти нет, так как в словаре значения хранятся по ссылке."
   ]
  },
  {
   "cell_type": "markdown",
   "metadata": {},
   "source": [
    "__Запись в словарь рандомных данных.__"
   ]
  },
  {
   "cell_type": "code",
   "execution_count": 15,
   "metadata": {},
   "outputs": [
    {
     "name": "stdout",
     "output_type": "stream",
     "text": [
      "39.3 ms ± 4.59 ms per loop (mean ± std. dev. of 7 runs, 10 loops each)\n"
     ]
    }
   ],
   "source": [
    "%timeit write_to_dict_v1(random_keys, random_values)"
   ]
  },
  {
   "cell_type": "code",
   "execution_count": 16,
   "metadata": {},
   "outputs": [
    {
     "name": "stdout",
     "output_type": "stream",
     "text": [
      "58.5 ms ± 10.5 ms per loop (mean ± std. dev. of 7 runs, 10 loops each)\n"
     ]
    }
   ],
   "source": [
    "%timeit write_to_dict_v2(random_keys, random_values)"
   ]
  },
  {
   "cell_type": "code",
   "execution_count": 17,
   "metadata": {},
   "outputs": [
    {
     "name": "stdout",
     "output_type": "stream",
     "text": [
      "49.4 ms ± 9.87 ms per loop (mean ± std. dev. of 7 runs, 10 loops each)\n"
     ]
    }
   ],
   "source": [
    "%timeit write_to_dict_v3(random_keys, random_values)"
   ]
  },
  {
   "cell_type": "code",
   "execution_count": 18,
   "metadata": {},
   "outputs": [
    {
     "name": "stdout",
     "output_type": "stream",
     "text": [
      "39.9 ms ± 10.6 ms per loop (mean ± std. dev. of 7 runs, 10 loops each)\n"
     ]
    }
   ],
   "source": [
    "%timeit write_to_dict_v4(random_keys, random_values)"
   ]
  },
  {
   "cell_type": "code",
   "execution_count": 19,
   "metadata": {},
   "outputs": [
    {
     "name": "stdout",
     "output_type": "stream",
     "text": [
      "         10000504 function calls in 20.181 seconds\n",
      "\n",
      "   Ordered by: internal time\n",
      "\n",
      "   ncalls  tottime  percall  cumtime  percall filename:lineno(function)\n",
      "      100    4.276    0.043    4.276    0.043 write_to_dict.py:36(write_to_dict_v3)\n",
      "      100    3.877    0.039    3.877    0.039 write_to_dict.py:14(write_to_dict_v1)\n",
      " 10000000    3.806    0.000    3.806    0.000 {method 'setdefault' of 'dict' objects}\n",
      "      100    3.768    0.038    7.574    0.076 write_to_dict.py:25(write_to_dict_v2)\n",
      "      100    3.634    0.036    3.634    0.036 write_to_dict.py:53(<dictcomp>)\n",
      "        1    0.818    0.818   20.181   20.181 <ipython-input-19-434c65d1593e>:4(benchmark_write_random)\n",
      "      100    0.001    0.000    3.635    0.036 write_to_dict.py:48(write_to_dict_v4)\n",
      "        1    0.000    0.000   20.181   20.181 {built-in method builtins.exec}\n",
      "        1    0.000    0.000   20.181   20.181 <string>:1(<module>)\n",
      "        1    0.000    0.000    0.000    0.000 {method 'disable' of '_lsprof.Profiler' objects}\n",
      "\n",
      "\n"
     ]
    }
   ],
   "source": [
    "import cProfile\n",
    "\n",
    "\n",
    "def benchmark_write_random(n):\n",
    "    for i in range(n):\n",
    "        write_to_dict_v1(random_keys, random_values)\n",
    "        write_to_dict_v2(random_keys, random_values)\n",
    "        write_to_dict_v3(random_keys, random_values)\n",
    "        write_to_dict_v4(random_keys, random_values)\n",
    "\n",
    "\n",
    "cProfile.run('benchmark_write_random(100)', sort='tottime')"
   ]
  },
  {
   "cell_type": "code",
   "execution_count": 20,
   "metadata": {},
   "outputs": [],
   "source": [
    "%lprun -f benchmark_write_random benchmark_write_random(100)"
   ]
  },
  {
   "cell_type": "markdown",
   "metadata": {},
   "source": [
    "Timer unit: 1e-07 s\n",
    "\n",
    "Total time: 44.1011 s\n",
    "File: <ipython-input-111-434c65d1593e>\n",
    "Function: benchmark_write_random at line 4\n",
    "\n",
    "Line #      Hits         Time  Per Hit   % Time  Line Contents\n",
    "==============================================================\n",
    "     4                                           def benchmark_write_random(n):\n",
    "     5       101       7068.0     70.0      0.0      for i in range(n):\n",
    "     6       100  109968005.0 1099680.1     24.9          write_to_dict_v1(random_keys, random_values)\n",
    "     7       100  129207820.0 1292078.2     29.3          write_to_dict_v2(random_keys, random_values)\n",
    "     8       100  131194029.0 1311940.3     29.7          write_to_dict_v3(random_keys, random_values)\n",
    "     9       100   70633732.0 706337.3     16.0          write_to_dict_v4(random_keys, random_values)"
   ]
  },
  {
   "cell_type": "markdown",
   "metadata": {},
   "source": [
    "При записи случайных ключей с повторами вариант с перезаписью ключей (v1) теряет свое преимущество, так как в данном случае фактически записываются все значения (с перезаписью), в то время как два других варианта повторяющиеся ключи не перезаписывают. Самым лучшим вариантом остается dictionary comprehension, хотя он тоже частично теряет по отношению к вариантам с проверками наличия ключа в словаре."
   ]
  },
  {
   "cell_type": "markdown",
   "metadata": {},
   "source": [
    " "
   ]
  },
  {
   "cell_type": "markdown",
   "metadata": {},
   "source": [
    "__Чтение данных из словаря.__"
   ]
  },
  {
   "cell_type": "code",
   "execution_count": null,
   "metadata": {},
   "outputs": [],
   "source": [
    "# %load ./dictionary/read_from_dict.py \n",
    "import random\n",
    "\n",
    "\n",
    "#prepare data\n",
    "RANGE = 10000\n",
    "ABC = 'abcdefghijklmnopqrstufwxyzABCDEFGHIJKLMNOPQRSTUFWXYZ'\n",
    "\n",
    "inline_keys = [x for x in range(RANGE)]\n",
    "inline_values = [''.join(random.sample(ABC, 8)) for _ in range(RANGE)]\n",
    "random_keys = [random.randint(0, RANGE) for _ in range(RANGE)]\n",
    "random_values = [''.join(random.sample(ABC, random.randint(8, 24))) for _ in range(RANGE)]\n",
    "\n",
    "data = {k: v for k, v in zip(inline_keys, inline_values)}\n",
    "data_random = {k: v for k, v in zip(random_keys, random_values)}\n",
    "\n",
    "\n",
    "def read_from_dict_v1(dictionary, key):\n",
    "    \"\"\"\n",
    "    Read items from the dictionary with method get.\n",
    "    Return None if the key is not in dictionary.\n",
    "    \"\"\"\n",
    "    return dictionary.get(key)\n",
    "\n",
    "\n",
    "def read_from_dict_v2(dictionary, key):\n",
    "    \"\"\"\n",
    "    Read items from the dictionary with checking if the key is in dictionary.\n",
    "    Return None if the key is not in dictionary.\n",
    "    \"\"\"\n",
    "    return dictionary[key] if key in dictionary else None\n",
    "\n",
    "\n",
    "def read_from_dict_v3(dictionary, key):\n",
    "    \"\"\"\n",
    "    Read items from the dictionary with interrupt handling.\n",
    "    Return None if the key is not in dictionary.\n",
    "    \"\"\"\n",
    "    try:\n",
    "        value = dictionary[key]\n",
    "    except KeyError:\n",
    "        value = None\n",
    "    return value\n"
   ]
  },
  {
   "cell_type": "code",
   "execution_count": null,
   "metadata": {},
   "outputs": [],
   "source": [
    "# %load ./dictionary/test_read_from_dict.py\n",
    "import pytest\n",
    "\n",
    "from read_from_dict import read_from_dict_v1, read_from_dict_v2, read_from_dict_v3\n",
    "\n",
    "\n",
    "test_data = {1: 'abc', 4: 'def', 6: 'hjik'}\n",
    "\n",
    "\n",
    "def test_in_dict_v1():\n",
    "    assert read_from_dict_v1(test_data, 4) == 'def'\n",
    "    \n",
    "\n",
    "def test_not_in_dict_v1():\n",
    "    assert read_from_dict_v1(test_data, 2) is None\n",
    "\n",
    "\n",
    "def test_in_dict_v2():\n",
    "    assert read_from_dict_v1(test_data, 4) == 'def'\n",
    "    \n",
    "\n",
    "def test_not_in_dict_v2():\n",
    "    assert read_from_dict_v1(test_data, 2) is None\n",
    "\n",
    "\n",
    "def test_in_dict_v3():\n",
    "    assert read_from_dict_v1(test_data, 4) == 'def'\n",
    "    \n",
    "\n",
    "def test_not_in_dict_v3():\n",
    "    assert read_from_dict_v1(test_data, 2) is None\n"
   ]
  },
  {
   "cell_type": "code",
   "execution_count": 82,
   "metadata": {},
   "outputs": [
    {
     "name": "stdout",
     "output_type": "stream",
     "text": [
      "============================= test session starts =============================\n",
      "platform win32 -- Python 3.7.4, pytest-5.4.3, py-1.9.0, pluggy-0.13.1\n",
      "rootdir: F:\\!EPAM\\HW_Lesson12\n",
      "collected 6 items\n",
      "\n",
      "dictionary\\test_read_from_dict.py ......                                 [100%]\n",
      "\n",
      "============================== 6 passed in 0.74s ==============================\n"
     ]
    }
   ],
   "source": [
    "!python -m pytest ./dictionary/test_read_from_dict.py"
   ]
  },
  {
   "cell_type": "code",
   "execution_count": 114,
   "metadata": {},
   "outputs": [
    {
     "name": "stdout",
     "output_type": "stream",
     "text": [
      "6.16 ms ± 891 µs per loop (mean ± std. dev. of 7 runs, 100 loops each)\n",
      "5.03 ms ± 787 µs per loop (mean ± std. dev. of 7 runs, 100 loops each)\n",
      "5.32 ms ± 906 µs per loop (mean ± std. dev. of 7 runs, 100 loops each)\n"
     ]
    }
   ],
   "source": [
    "# Словарь содержит все ключи в диапазоне от 0 до RANGE\n",
    "def check_read(func):\n",
    "    for i in range(RANGE):\n",
    "        temp = func(data, i)\n",
    "\n",
    "%timeit check_read(read_from_dict_v1)\n",
    "%timeit check_read(read_from_dict_v2)\n",
    "%timeit check_read(read_from_dict_v3)"
   ]
  },
  {
   "cell_type": "code",
   "execution_count": 116,
   "metadata": {},
   "outputs": [
    {
     "name": "stdout",
     "output_type": "stream",
     "text": [
      "5.33 ms ± 1.14 ms per loop (mean ± std. dev. of 7 runs, 100 loops each)\n",
      "4.52 ms ± 908 µs per loop (mean ± std. dev. of 7 runs, 100 loops each)\n",
      "6.79 ms ± 1.83 ms per loop (mean ± std. dev. of 7 runs, 100 loops each)\n"
     ]
    }
   ],
   "source": [
    "# Словарь содержит случайный набор ключей \n",
    "def check_read(func):\n",
    "    for i in range(RANGE):\n",
    "        temp = func(data_random, i)\n",
    "\n",
    "%timeit check_read(read_from_dict_v1)\n",
    "%timeit check_read(read_from_dict_v2)\n",
    "%timeit check_read(read_from_dict_v3)"
   ]
  },
  {
   "cell_type": "code",
   "execution_count": 117,
   "metadata": {},
   "outputs": [
    {
     "name": "stdout",
     "output_type": "stream",
     "text": [
      "         40000004 function calls in 25.873 seconds\n",
      "\n",
      "   Ordered by: internal time\n",
      "\n",
      "   ncalls  tottime  percall  cumtime  percall filename:lineno(function)\n",
      "        1   12.764   12.764   25.873   25.873 <ipython-input-117-17273a126c3a>:5(benchmark_read)\n",
      " 10000000    3.807    0.000    5.936    0.000 <ipython-input-102-8dd1d2f31bba>:18(read_from_dict_v1)\n",
      " 10000000    3.769    0.000    3.769    0.000 <ipython-input-102-8dd1d2f31bba>:26(read_from_dict_v2)\n",
      " 10000000    3.404    0.000    3.404    0.000 <ipython-input-102-8dd1d2f31bba>:34(read_from_dict_v3)\n",
      " 10000000    2.129    0.000    2.129    0.000 {method 'get' of 'dict' objects}\n",
      "        1    0.000    0.000   25.873   25.873 {built-in method builtins.exec}\n",
      "        1    0.000    0.000   25.873   25.873 <string>:1(<module>)\n",
      "        1    0.000    0.000    0.000    0.000 {method 'disable' of '_lsprof.Profiler' objects}\n",
      "\n",
      "\n"
     ]
    }
   ],
   "source": [
    "# Словарь содержит все ключи в диапазоне от 0 до RANGE\n",
    "import cProfile\n",
    "\n",
    "\n",
    "def benchmark_read(n):\n",
    "    for _ in range(n):\n",
    "        for i in range(RANGE):\n",
    "            read_from_dict_v1(data, i)\n",
    "            read_from_dict_v2(data, i)\n",
    "            read_from_dict_v3(data, i)\n",
    "\n",
    "\n",
    "cProfile.run('benchmark_read(1000)', sort='tottime')"
   ]
  },
  {
   "cell_type": "code",
   "execution_count": 118,
   "metadata": {},
   "outputs": [
    {
     "name": "stdout",
     "output_type": "stream",
     "text": [
      "         40000004 function calls in 28.277 seconds\n",
      "\n",
      "   Ordered by: internal time\n",
      "\n",
      "   ncalls  tottime  percall  cumtime  percall filename:lineno(function)\n",
      "        1   13.070   13.070   28.277   28.277 <ipython-input-118-e1f6cc3e0318>:5(benchmark_read_random)\n",
      " 10000000    5.141    0.000    5.141    0.000 <ipython-input-102-8dd1d2f31bba>:34(read_from_dict_v3)\n",
      " 10000000    3.790    0.000    6.824    0.000 <ipython-input-102-8dd1d2f31bba>:18(read_from_dict_v1)\n",
      " 10000000    3.242    0.000    3.242    0.000 <ipython-input-102-8dd1d2f31bba>:26(read_from_dict_v2)\n",
      " 10000000    3.035    0.000    3.035    0.000 {method 'get' of 'dict' objects}\n",
      "        1    0.000    0.000   28.277   28.277 {built-in method builtins.exec}\n",
      "        1    0.000    0.000   28.277   28.277 <string>:1(<module>)\n",
      "        1    0.000    0.000    0.000    0.000 {method 'disable' of '_lsprof.Profiler' objects}\n",
      "\n",
      "\n"
     ]
    }
   ],
   "source": [
    "# Словарь содержит случайный набор ключей \n",
    "import cProfile\n",
    "\n",
    "\n",
    "def benchmark_read_random(n):\n",
    "    for _ in range(n):\n",
    "        for i in range(RANGE):\n",
    "            read_from_dict_v1(data_random, i)\n",
    "            read_from_dict_v2(data_random, i)\n",
    "            read_from_dict_v3(data_random, i)\n",
    "\n",
    "\n",
    "cProfile.run('benchmark_read_random(1000)', sort='tottime')"
   ]
  },
  {
   "cell_type": "code",
   "execution_count": 111,
   "metadata": {},
   "outputs": [],
   "source": [
    "# Словарь содержит все ключи в диапазоне от 0 до RANGE\n",
    "%lprun -f benchmark_read benchmark_read(100)"
   ]
  },
  {
   "cell_type": "markdown",
   "metadata": {},
   "source": [
    "Timer unit: 1e-07 s\n",
    "\n",
    "Total time: 8.40159 s\n",
    "File: <ipython-input-60-950e4597868c>\n",
    "Function: benchmark_read at line 4\n",
    "\n",
    "Line #      Hits         Time  Per Hit   % Time  Line Contents\n",
    "==============================================================\n",
    "     4                                           def benchmark_read(n):\n",
    "     5       101       1026.0     10.2      0.0      for _ in range(n):\n",
    "     6   1000100    9105886.0      9.1     10.8          for i in range(RANGE):\n",
    "     7   1000000   21790106.0     21.8     25.9              read_from_dict_v1(data, i)\n",
    "     8   1000000   20656214.0     20.7     24.6              read_from_dict_v2(data, i)\n",
    "     9   1000000   32462693.0     32.5     38.6              read_from_dict_v3(data, i)"
   ]
  },
  {
   "cell_type": "code",
   "execution_count": null,
   "metadata": {},
   "outputs": [],
   "source": [
    "# %load read_from_dict_memory_profiling.py\n",
    "from memory_profiler import profile\n",
    "\n",
    "from dictionary.read_from_dict import read_from_dict_v1, read_from_dict_v2, read_from_dict_v3\n",
    "from dictionary.read_from_dict import data, RANGE\n",
    "\n",
    "\n",
    "@profile\n",
    "def run_all():\n",
    "    def loop(func):\n",
    "        for i in range(RANGE):\n",
    "            temp = func(data, i)\n",
    "\n",
    "    loop(read_from_dict_v1)\n",
    "    loop(read_from_dict_v2)\n",
    "    loop(read_from_dict_v3)\n",
    "\n",
    "\n",
    "if __name__ == '__main__':\n",
    "    run_all()\n"
   ]
  },
  {
   "cell_type": "code",
   "execution_count": 73,
   "metadata": {},
   "outputs": [
    {
     "name": "stdout",
     "output_type": "stream",
     "text": [
      "Filename: read_from_dict_memory_profiling.py\n",
      "\n",
      "Line #    Mem usage    Increment   Line Contents\n",
      "================================================\n",
      "     7     15.2 MiB     15.2 MiB   @profile\n",
      "     8                             def run_all():\n",
      "     9     15.2 MiB      0.0 MiB       def loop(func):\n",
      "    10     15.2 MiB      0.0 MiB           for i in range(RANGE):\n",
      "    11     15.2 MiB      0.0 MiB               temp = func(data, i)\n",
      "    12                             \n",
      "    13     15.2 MiB      0.0 MiB       loop(read_from_dict_v1)\n",
      "    14     15.2 MiB      0.0 MiB       loop(read_from_dict_v2)\n",
      "    15     15.2 MiB      0.0 MiB       loop(read_from_dict_v3)\n",
      "\n",
      "\n"
     ]
    }
   ],
   "source": [
    "!python read_from_dict_memory_profiling.py"
   ]
  },
  {
   "cell_type": "markdown",
   "metadata": {},
   "source": [
    "Замеряла несколько раз. В целом, достаточно ожидаемо, что на случайном наборе ключей функция, где идет обработка прерывания KeyError теряет производительность, в то время как на словаре с полным набором ключей работает примерно на уровне функции с прямым обращением к ключу. А вот почему метод `get` работает чуть медленнее, чем явная проверка на наличие ключа в словаре через `in` и прямым обращением к ключу - это для меня осталось загадкой. Могу только предположить, что на это может влиять внутренняя реализация самого метода `get`.    "
   ]
  },
  {
   "cell_type": "code",
   "execution_count": null,
   "metadata": {},
   "outputs": [],
   "source": []
  }
 ],
 "metadata": {
  "kernelspec": {
   "display_name": "Python 3",
   "language": "python",
   "name": "python3"
  },
  "language_info": {
   "codemirror_mode": {
    "name": "ipython",
    "version": 3
   },
   "file_extension": ".py",
   "mimetype": "text/x-python",
   "name": "python",
   "nbconvert_exporter": "python",
   "pygments_lexer": "ipython3",
   "version": "3.7.4"
  }
 },
 "nbformat": 4,
 "nbformat_minor": 2
}
