{
 "cells": [
  {
   "cell_type": "markdown",
   "metadata": {},
   "source": [
    "_Student: Kiseleva Elena_"
   ]
  },
  {
   "cell_type": "code",
   "execution_count": 1,
   "metadata": {},
   "outputs": [
    {
     "name": "stdout",
     "output_type": "stream",
     "text": [
      "done\n"
     ]
    }
   ],
   "source": [
    "# display all outputs, not only last one\n",
    "from IPython.core.interactiveshell import InteractiveShell\n",
    "InteractiveShell.ast_node_interactivity = \"all\"\n",
    "print('done')"
   ]
  },
  {
   "cell_type": "code",
   "execution_count": 2,
   "metadata": {},
   "outputs": [],
   "source": [
    "%load_ext line_profiler\n",
    "%load_ext memory_profiler"
   ]
  },
  {
   "cell_type": "markdown",
   "metadata": {},
   "source": [
    "### 3. Отсортировать список.\n"
   ]
  },
  {
   "cell_type": "code",
   "execution_count": null,
   "metadata": {},
   "outputs": [],
   "source": [
    "# %load ./sort_list/sort_list.py\n",
    "def standart_sort(data):\n",
    "    return sorted(data)\n",
    "\n",
    "\n",
    "def selection_sort(data):\n",
    "    for i in range(len(data)):\n",
    "        min_elem = min(data[i:])\n",
    "        min_ind = data[i:].index(min_elem)\n",
    "        data[i], data[min_ind + i] = min_elem, data[i]\n",
    "    return data\n",
    "\n",
    "\n",
    "def merge(left, right):\n",
    "    left_len = len(left)\n",
    "    right_len = len(right)\n",
    "    left_pointer = 0\n",
    "    right_pointer = 0\n",
    "    result = []\n",
    "    while left_pointer < left_len and right_pointer < right_len:\n",
    "        if left[left_pointer] <= right[right_pointer]:\n",
    "            result.append(left[left_pointer])\n",
    "            left_pointer += 1\n",
    "        else:\n",
    "            result.append(right[right_pointer])\n",
    "            right_pointer += 1\n",
    "    if left_pointer == left_len:\n",
    "        result.extend(right[right_pointer:])\n",
    "    if right_pointer == right_len:\n",
    "        result.extend(left[left_pointer:])\n",
    "    return result\n",
    "\n",
    "\n",
    "def merge_sort(data):\n",
    "    if len(data) <= 1:\n",
    "        return data\n",
    "    middle = len(data) // 2\n",
    "    left = merge_sort(data[:middle])\n",
    "    right = merge_sort(data[middle:])\n",
    "    return merge(left, right)\n"
   ]
  },
  {
   "cell_type": "code",
   "execution_count": null,
   "metadata": {},
   "outputs": [],
   "source": [
    "# %load ./sort_list/test_sort_list.py\n",
    "import pytest\n",
    "\n",
    "from sort_list import standart_sort, selection_sort, merge_sort\n",
    "\n",
    "\n",
    "test_data = [2, 6, 47, 8, 45, 6, 53, 0, 19, 67, 93, 346, 116]\n",
    "sorted_list = [0, 2, 6, 6, 8, 19, 45, 47, 53, 67, 93, 116, 346]\n",
    "\n",
    "\n",
    "def test_standart_sort():\n",
    "    assert standart_sort(test_data) == sorted_list\n",
    "\n",
    "\n",
    "def test_selection_sort():\n",
    "    assert selection_sort(test_data) == sorted_list\n",
    "\n",
    "\n",
    "def test_merge_sort():\n",
    "    assert merge_sort(test_data) == sorted_list\n",
    "\n"
   ]
  },
  {
   "cell_type": "code",
   "execution_count": 6,
   "metadata": {},
   "outputs": [
    {
     "name": "stdout",
     "output_type": "stream",
     "text": [
      "============================= test session starts =============================\n",
      "platform win32 -- Python 3.7.4, pytest-5.4.3, py-1.9.0, pluggy-0.13.1\n",
      "rootdir: F:\\!EPAM\\HW_Lesson12\n",
      "collected 3 items\n",
      "\n",
      "sort_list\\test_sort_list.py ...                                          [100%]\n",
      "\n",
      "============================== 3 passed in 0.03s ==============================\n"
     ]
    }
   ],
   "source": [
    "!python -m pytest ./sort_list/test_sort_list.py"
   ]
  },
  {
   "cell_type": "code",
   "execution_count": 7,
   "metadata": {},
   "outputs": [],
   "source": [
    "# Prepare data\n",
    "import random\n",
    "\n",
    "RANGE = 1000\n",
    "\n",
    "data = [random.randint(-1000, 1000) for _ in range(RANGE)]"
   ]
  },
  {
   "cell_type": "code",
   "execution_count": 8,
   "metadata": {},
   "outputs": [
    {
     "name": "stdout",
     "output_type": "stream",
     "text": [
      "177 µs ± 13.4 µs per loop (mean ± std. dev. of 7 runs, 10000 loops each)\n"
     ]
    }
   ],
   "source": [
    "%timeit standart_sort(data)"
   ]
  },
  {
   "cell_type": "code",
   "execution_count": 9,
   "metadata": {},
   "outputs": [
    {
     "name": "stdout",
     "output_type": "stream",
     "text": [
      "31 ms ± 4.59 ms per loop (mean ± std. dev. of 7 runs, 10 loops each)\n"
     ]
    }
   ],
   "source": [
    "%timeit selection_sort(data)"
   ]
  },
  {
   "cell_type": "code",
   "execution_count": 10,
   "metadata": {},
   "outputs": [
    {
     "name": "stdout",
     "output_type": "stream",
     "text": [
      "5.33 ms ± 1.27 ms per loop (mean ± std. dev. of 7 runs, 100 loops each)\n"
     ]
    }
   ],
   "source": [
    "%timeit merge_sort(data)"
   ]
  },
  {
   "cell_type": "code",
   "execution_count": 13,
   "metadata": {},
   "outputs": [
    {
     "name": "stdout",
     "output_type": "stream",
     "text": [
      "         15929004 function calls (13931004 primitive calls) in 36.666 seconds\n",
      "\n",
      "   Ordered by: internal time\n",
      "\n",
      "   ncalls  tottime  percall  cumtime  percall filename:lineno(function)\n",
      "  1000000   19.760    0.000   19.760    0.000 {built-in method builtins.min}\n",
      "     1000    7.196    0.007   27.264    0.027 <ipython-input-3-1a65de95047e>:6(selection_sort)\n",
      "   999000    4.930    0.000    6.089    0.000 <ipython-input-3-1a65de95047e>:14(merge)\n",
      "1999000/1000    2.942    0.000    9.367    0.009 <ipython-input-3-1a65de95047e>:34(merge_sort)\n",
      "  4932000    0.697    0.000    0.697    0.000 {method 'append' of 'list' objects}\n",
      "  4997000    0.565    0.000    0.565    0.000 {built-in method builtins.len}\n",
      "  1000000    0.308    0.000    0.308    0.000 {method 'index' of 'list' objects}\n",
      "   999000    0.233    0.000    0.233    0.000 {method 'extend' of 'list' objects}\n",
      "     1000    0.020    0.000    0.020    0.000 {built-in method builtins.sorted}\n",
      "        1    0.013    0.013   36.666   36.666 <ipython-input-13-23e699dacd13>:4(benchmark_sort)\n",
      "     1000    0.001    0.000    0.021    0.000 <ipython-input-3-1a65de95047e>:2(standart_sort)\n",
      "        1    0.000    0.000   36.666   36.666 {built-in method builtins.exec}\n",
      "        1    0.000    0.000   36.666   36.666 <string>:1(<module>)\n",
      "        1    0.000    0.000    0.000    0.000 {method 'disable' of '_lsprof.Profiler' objects}\n",
      "\n",
      "\n"
     ]
    }
   ],
   "source": [
    "import cProfile\n",
    "\n",
    "\n",
    "def benchmark_sort(n):\n",
    "    for i in range(n):\n",
    "        standart_sort(data)\n",
    "        selection_sort(data)\n",
    "        merge_sort(data)\n",
    "\n",
    "\n",
    "cProfile.run('benchmark_sort(1000)', sort='tottime')"
   ]
  },
  {
   "cell_type": "code",
   "execution_count": 14,
   "metadata": {},
   "outputs": [],
   "source": [
    "%lprun -f benchmark_sort benchmark_sort(100)"
   ]
  },
  {
   "cell_type": "markdown",
   "metadata": {},
   "source": [
    "Timer unit: 1e-07 s\n",
    "\n",
    "Total time: 5.24783 s\n",
    "File: <ipython-input-13-23e699dacd13>\n",
    "Function: benchmark_sort at line 4\n",
    "\n",
    "Line #      Hits         Time  Per Hit   % Time  Line Contents\n",
    "==============================================================\n",
    "     4                                           def benchmark_sort(n):\n",
    "     5       101       4514.0     44.7      0.0      for i in range(n):\n",
    "     6       100      33095.0    330.9      0.1          standart_sort(data)\n",
    "     7       100   29965475.0 299654.8     57.1          selection_sort(data)\n",
    "     8       100   22475235.0 224752.4     42.8          merge_sort(data)"
   ]
  },
  {
   "cell_type": "code",
   "execution_count": null,
   "metadata": {},
   "outputs": [],
   "source": [
    "# %load sort_list_memory_profiling.py\n",
    "import random\n",
    "from memory_profiler import profile\n",
    "\n",
    "from sort_list.sort_list import standart_sort, selection_sort, merge_sort\n",
    "\n",
    "\n",
    "# Prepare data\n",
    "RANGE = 1000\n",
    "data = [random.randint(-1000, 1000) for _ in range(RANGE)]\n",
    "\n",
    "\n",
    "@profile\n",
    "def run_all(n=10):\n",
    "    result1 = [standart_sort(data) for _ in range(n)]\n",
    "    result2 = [selection_sort(data) for _ in range(n)]\n",
    "    result3 = [merge_sort(data) for _ in range(n)]\n",
    "\n",
    "\n",
    "if __name__ == '__main__':\n",
    "    run_all(100)\n"
   ]
  },
  {
   "cell_type": "code",
   "execution_count": 22,
   "metadata": {},
   "outputs": [
    {
     "name": "stdout",
     "output_type": "stream",
     "text": [
      "Filename: sort_list_memory_profiling.py\n",
      "\n",
      "Line #    Mem usage    Increment   Line Contents\n",
      "================================================\n",
      "    12     14.3 MiB     14.3 MiB   @profile\n",
      "    13                             def run_all(n=10):\n",
      "    14     14.7 MiB      0.1 MiB       result1 = [standart_sort(data) for _ in range(n)]\n",
      "    15     14.9 MiB      0.1 MiB       result2 = [selection_sort(data) for _ in range(n)]\n",
      "    16     15.5 MiB      0.1 MiB       result3 = [merge_sort(data) for _ in range(n)]\n",
      "\n",
      "\n"
     ]
    }
   ],
   "source": [
    "!python sort_list_memory_profiling.py"
   ]
  },
  {
   "cell_type": "markdown",
   "metadata": {},
   "source": [
    "Как и ожидалось, встроенный метод сортировки отработал лучше всего, а сортировка выбором - медленнее всех. Но в сортировке слиянием есть дополнительные затраты по памяти. Возможно, это из-за того, что при каждом делении списка пополам мы фактически создаем три объекта-списка - две половинки изначального списка плюс список, в который сливаются эти половинки."
   ]
  },
  {
   "cell_type": "code",
   "execution_count": null,
   "metadata": {},
   "outputs": [],
   "source": []
  }
 ],
 "metadata": {
  "kernelspec": {
   "display_name": "Python 3",
   "language": "python",
   "name": "python3"
  },
  "language_info": {
   "codemirror_mode": {
    "name": "ipython",
    "version": 3
   },
   "file_extension": ".py",
   "mimetype": "text/x-python",
   "name": "python",
   "nbconvert_exporter": "python",
   "pygments_lexer": "ipython3",
   "version": "3.7.4"
  }
 },
 "nbformat": 4,
 "nbformat_minor": 2
}
