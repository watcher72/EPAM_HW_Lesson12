{
 "cells": [
  {
   "cell_type": "markdown",
   "metadata": {},
   "source": [
    "_Student: Kiseleva Elena_"
   ]
  },
  {
   "cell_type": "code",
   "execution_count": 1,
   "metadata": {},
   "outputs": [
    {
     "name": "stdout",
     "output_type": "stream",
     "text": [
      "done\n"
     ]
    }
   ],
   "source": [
    "# display all outputs, not only last one\n",
    "from IPython.core.interactiveshell import InteractiveShell\n",
    "InteractiveShell.ast_node_interactivity = \"all\"\n",
    "print('done')"
   ]
  },
  {
   "cell_type": "code",
   "execution_count": 2,
   "metadata": {},
   "outputs": [],
   "source": [
    "%load_ext line_profiler\n",
    "%load_ext memory_profiler"
   ]
  },
  {
   "cell_type": "markdown",
   "metadata": {},
   "source": [
    "### 4. Распаковать вложенный список."
   ]
  },
  {
   "cell_type": "code",
   "execution_count": null,
   "metadata": {},
   "outputs": [],
   "source": [
    "# %load ./flatten/flatten_list.py\n",
    "def flatten_with_recursion(data):\n",
    "    \"\"\"Make flat list from the given list with any nesting level.\"\"\"\n",
    "    result = []\n",
    "    for item in data:\n",
    "        result.append(item) if not isinstance(item, list) \\\n",
    "            else result.extend(flatten_with_recursion(item))\n",
    "    return result\n",
    "\n",
    "\n",
    "def flatten_with_whileloop(data):\n",
    "    is_flat = True\n",
    "    while is_flat:\n",
    "        is_flat = False\n",
    "        temp = []\n",
    "        for item in data:\n",
    "            if isinstance(item, list):\n",
    "                temp.extend(item)\n",
    "                is_flat = True\n",
    "            else:\n",
    "                temp.append(item)\n",
    "        data = temp\n",
    "    return data\n"
   ]
  },
  {
   "cell_type": "code",
   "execution_count": null,
   "metadata": {},
   "outputs": [],
   "source": [
    "# %load ./flatten/test_flatten_list.py\n",
    "import pytest\n",
    "\n",
    "from flatten_list import flatten_with_recursion, flatten_with_whileloop\n",
    "\n",
    "\n",
    "data = [1, [2, 3], 4, [5, [6, [7]], 8], 9]\n",
    "expected = [1, 2, 3, 4, 5, 6, 7, 8, 9]\n",
    "\n",
    "\n",
    "def test_flatten_with_recursion():\n",
    "    actual = flatten_with_recursion(data)\n",
    "    assert actual == expected\n",
    "\n",
    "\n",
    "def test_flatten_with_whileloop():\n",
    "    actual = flatten_with_whileloop(data)\n",
    "    assert actual == expected\n"
   ]
  },
  {
   "cell_type": "code",
   "execution_count": 10,
   "metadata": {},
   "outputs": [
    {
     "name": "stdout",
     "output_type": "stream",
     "text": [
      "============================= test session starts =============================\n",
      "platform win32 -- Python 3.7.4, pytest-5.4.3, py-1.9.0, pluggy-0.13.1\n",
      "rootdir: F:\\!EPAM\\HW_Lesson12\n",
      "collected 2 items\n",
      "\n",
      "flatten\\test_flatten_list.py ..                                          [100%]\n",
      "\n",
      "============================== 2 passed in 0.02s ==============================\n"
     ]
    }
   ],
   "source": [
    "!python -m pytest ./flatten/test_flatten_list.py"
   ]
  },
  {
   "cell_type": "code",
   "execution_count": 11,
   "metadata": {},
   "outputs": [],
   "source": [
    "#Prepare data\n",
    "import random\n",
    "from pprint import pprint as pp\n",
    "\n",
    "RANGE = 10\n",
    "nested_list = []\n",
    "for i in range(RANGE):\n",
    "    items_num_2 = random.randint(1, 10)\n",
    "    if items_num_2 == 1:\n",
    "        nested_list.append(random.randint(-100, 100))\n",
    "    else:\n",
    "        temp = []\n",
    "        for j in range(items_num_2):\n",
    "            items_num_3 = random.randint(1, 10)\n",
    "            if items_num_3 == 1:\n",
    "                temp.append(random.randint(-100, 100))\n",
    "            else:\n",
    "                temp.append([random.randint(-100, 100) for k in range(items_num_3)])\n",
    "        nested_list.append(temp)\n",
    "# pp(nested_list)\n",
    "# print(flatten_with_whileloop(nested_list))"
   ]
  },
  {
   "cell_type": "code",
   "execution_count": 14,
   "metadata": {},
   "outputs": [
    {
     "name": "stdout",
     "output_type": "stream",
     "text": [
      "169 µs ± 18.2 µs per loop (mean ± std. dev. of 7 runs, 10000 loops each)\n"
     ]
    }
   ],
   "source": [
    "%timeit flatten_with_recursion(nested_list)"
   ]
  },
  {
   "cell_type": "code",
   "execution_count": 15,
   "metadata": {},
   "outputs": [
    {
     "name": "stdout",
     "output_type": "stream",
     "text": [
      "151 µs ± 20.3 µs per loop (mean ± std. dev. of 7 runs, 10000 loops each)\n"
     ]
    }
   ],
   "source": [
    "%timeit flatten_with_whileloop(nested_list)"
   ]
  },
  {
   "cell_type": "code",
   "execution_count": 17,
   "metadata": {},
   "outputs": [
    {
     "name": "stdout",
     "output_type": "stream",
     "text": [
      "         15120004 function calls (14520004 primitive calls) in 7.343 seconds\n",
      "\n",
      "   Ordered by: internal time\n",
      "\n",
      "   ncalls  tottime  percall  cumtime  percall filename:lineno(function)\n",
      "610000/10000    2.691    0.000    3.952    0.000 <ipython-input-13-5ac53e669e60>:2(flatten_with_recursion)\n",
      "    10000    2.168    0.000    3.355    0.000 <ipython-input-13-5ac53e669e60>:11(flatten_with_whileloop)\n",
      "  7250000    1.174    0.000    1.174    0.000 {built-in method builtins.isinstance}\n",
      "  6050000    0.884    0.000    0.884    0.000 {method 'append' of 'list' objects}\n",
      "  1200000    0.390    0.000    0.390    0.000 {method 'extend' of 'list' objects}\n",
      "        1    0.036    0.036    7.343    7.343 <ipython-input-17-2c6affa03394>:4(benchmark)\n",
      "        1    0.000    0.000    7.343    7.343 {built-in method builtins.exec}\n",
      "        1    0.000    0.000    7.343    7.343 <string>:1(<module>)\n",
      "        1    0.000    0.000    0.000    0.000 {method 'disable' of '_lsprof.Profiler' objects}\n",
      "\n",
      "\n"
     ]
    }
   ],
   "source": [
    "import cProfile\n",
    "\n",
    "\n",
    "def benchmark(n):\n",
    "    for i in range(n):\n",
    "        flatten_with_recursion(nested_list)\n",
    "        flatten_with_whileloop(nested_list)\n",
    "\n",
    "\n",
    "cProfile.run('benchmark(10000)', sort='tottime')"
   ]
  },
  {
   "cell_type": "code",
   "execution_count": 22,
   "metadata": {},
   "outputs": [],
   "source": [
    "%lprun -f benchmark benchmark(10000)"
   ]
  },
  {
   "cell_type": "markdown",
   "metadata": {},
   "source": [
    "Timer unit: 1e-07 s\n",
    "\n",
    "Total time: 11.3629 s\n",
    "File: <ipython-input-14-fc3c56336787>\n",
    "Function: benchmark at line 4\n",
    "\n",
    "Line #      Hits         Time  Per Hit   % Time  Line Contents\n",
    "==============================================================\n",
    "     4                                           def benchmark(n):\n",
    "     5      1001      48442.0     48.4      0.0      for i in range(n):\n",
    "     6      1000   58071708.0  58071.7     51.1          flatten_with_recursion(nested_list)\n",
    "     7      1000   55508361.0  55508.4     48.9          flatten_with_whileloop(nested_list)"
   ]
  },
  {
   "cell_type": "code",
   "execution_count": null,
   "metadata": {},
   "outputs": [],
   "source": [
    "# %load flatten_list_memory_profiling.py\n",
    "from memory_profiler import profile\n",
    "\n",
    "from flatten.flatten_list import flatten_with_recursion, flatten_with_whileloop\n",
    "\n",
    "\n",
    "#Prepare data\n",
    "import random\n",
    "\n",
    "RANGE = 10\n",
    "nested_list = []\n",
    "for i in range(RANGE):\n",
    "    items_num_2 = random.randint(1, 10)\n",
    "    if items_num_2 == 1:\n",
    "        nested_list.append(random.randint(-100, 100))\n",
    "    else:\n",
    "        temp = []\n",
    "        for j in range(items_num_2):\n",
    "            items_num_3 = random.randint(1, 10)\n",
    "            if items_num_3 == 1:\n",
    "                temp.append(random.randint(-100, 100))\n",
    "            else:\n",
    "                temp.append([random.randint(-100, 100) for k in range(items_num_3)])\n",
    "        nested_list.append(temp)\n",
    "\n",
    "        \n",
    "@profile\n",
    "def run_all(n):\n",
    "    result_rec = [flatten_with_recursion(nested_list) for _ in range(n)]\n",
    "    result_loop = [flatten_with_whileloop(nested_list) for _ in range(n)]\n",
    "\n",
    "    \n",
    "if __name__ == '__main__':\n",
    "    run_all(1000)\n"
   ]
  },
  {
   "cell_type": "code",
   "execution_count": 24,
   "metadata": {},
   "outputs": [
    {
     "name": "stdout",
     "output_type": "stream",
     "text": [
      "Filename: flatten_list_memory_profiling.py\n",
      "\n",
      "Line #    Mem usage    Increment   Line Contents\n",
      "================================================\n",
      "    26     14.2 MiB     14.2 MiB   @profile\n",
      "    27                             def run_all(n):\n",
      "    28     15.6 MiB      0.3 MiB       result_rec = [flatten_with_recursion(nested_list) for _ in range(n)]\n",
      "    29     16.8 MiB      0.1 MiB       result_loop = [flatten_with_whileloop(nested_list) for _ in range(n)]\n",
      "\n",
      "\n"
     ]
    }
   ],
   "source": [
    "!python flatten_list_memory_profiling.py"
   ]
  },
  {
   "cell_type": "markdown",
   "metadata": {},
   "source": [
    "Вариант с рекурсией работает чуть медленнее, чем вариант с последовательной распаковкой по одному уровню в цикле. По памяти получается примерно одинаково. При рекурсии память тратится на сохранение стейта в стеке (и я не поняла, `memory_profile` учитывает память под стек?). А во втором варианте мы фактически в каждый проход цикла `while` мы создаем новую копию словаря. "
   ]
  }
 ],
 "metadata": {
  "kernelspec": {
   "display_name": "Python 3",
   "language": "python",
   "name": "python3"
  },
  "language_info": {
   "codemirror_mode": {
    "name": "ipython",
    "version": 3
   },
   "file_extension": ".py",
   "mimetype": "text/x-python",
   "name": "python",
   "nbconvert_exporter": "python",
   "pygments_lexer": "ipython3",
   "version": "3.7.4"
  }
 },
 "nbformat": 4,
 "nbformat_minor": 2
}
